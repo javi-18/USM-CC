{
 "cells": [
  {
   "cell_type": "code",
   "execution_count": 1,
   "metadata": {},
   "outputs": [
    {
     "name": "stdout",
     "output_type": "stream",
     "text": [
      "Requirement already satisfied: numpy in c:\\python312\\lib\\site-packages (2.2.4)\n"
     ]
    },
    {
     "name": "stderr",
     "output_type": "stream",
     "text": [
      "WARNING: Ignoring invalid distribution ~ (C:\\Python312\\Lib\\site-packages)\n",
      "WARNING: Ignoring invalid distribution ~ip (C:\\Python312\\Lib\\site-packages)\n",
      "WARNING: Ignoring invalid distribution ~~p (C:\\Python312\\Lib\\site-packages)\n",
      "WARNING: Ignoring invalid distribution ~ (C:\\Python312\\Lib\\site-packages)\n",
      "WARNING: Ignoring invalid distribution ~ip (C:\\Python312\\Lib\\site-packages)\n",
      "WARNING: Ignoring invalid distribution ~~p (C:\\Python312\\Lib\\site-packages)\n",
      "WARNING: Ignoring invalid distribution ~ (C:\\Python312\\Lib\\site-packages)\n",
      "WARNING: Ignoring invalid distribution ~ip (C:\\Python312\\Lib\\site-packages)\n",
      "WARNING: Ignoring invalid distribution ~~p (C:\\Python312\\Lib\\site-packages)\n"
     ]
    },
    {
     "name": "stdout",
     "output_type": "stream",
     "text": [
      "Requirement already satisfied: matplotlib in c:\\users\\javie\\appdata\\roaming\\python\\python312\\site-packages (3.10.1)\n",
      "Requirement already satisfied: contourpy>=1.0.1 in c:\\users\\javie\\appdata\\roaming\\python\\python312\\site-packages (from matplotlib) (1.3.1)\n",
      "Requirement already satisfied: cycler>=0.10 in c:\\users\\javie\\appdata\\roaming\\python\\python312\\site-packages (from matplotlib) (0.12.1)\n",
      "Requirement already satisfied: fonttools>=4.22.0 in c:\\python312\\lib\\site-packages (from matplotlib) (4.56.0)\n",
      "Requirement already satisfied: kiwisolver>=1.3.1 in c:\\python312\\lib\\site-packages (from matplotlib) (1.4.8)\n",
      "Requirement already satisfied: numpy>=1.23 in c:\\python312\\lib\\site-packages (from matplotlib) (2.2.4)\n",
      "Requirement already satisfied: packaging>=20.0 in c:\\users\\javie\\appdata\\roaming\\python\\python312\\site-packages (from matplotlib) (24.2)\n",
      "Requirement already satisfied: pillow>=8 in c:\\python312\\lib\\site-packages (from matplotlib) (11.1.0)\n",
      "Requirement already satisfied: pyparsing>=2.3.1 in c:\\python312\\lib\\site-packages (from matplotlib) (3.2.3)\n",
      "Requirement already satisfied: python-dateutil>=2.7 in c:\\users\\javie\\appdata\\roaming\\python\\python312\\site-packages (from matplotlib) (2.9.0.post0)\n",
      "Requirement already satisfied: six>=1.5 in c:\\users\\javie\\appdata\\roaming\\python\\python312\\site-packages (from python-dateutil>=2.7->matplotlib) (1.17.0)\n"
     ]
    },
    {
     "name": "stderr",
     "output_type": "stream",
     "text": [
      "WARNING: Ignoring invalid distribution ~ (C:\\Python312\\Lib\\site-packages)\n",
      "WARNING: Ignoring invalid distribution ~ip (C:\\Python312\\Lib\\site-packages)\n",
      "WARNING: Ignoring invalid distribution ~~p (C:\\Python312\\Lib\\site-packages)\n",
      "WARNING: Ignoring invalid distribution ~ (C:\\Python312\\Lib\\site-packages)\n",
      "WARNING: Ignoring invalid distribution ~ip (C:\\Python312\\Lib\\site-packages)\n",
      "WARNING: Ignoring invalid distribution ~~p (C:\\Python312\\Lib\\site-packages)\n",
      "WARNING: Ignoring invalid distribution ~ (C:\\Python312\\Lib\\site-packages)\n",
      "WARNING: Ignoring invalid distribution ~ip (C:\\Python312\\Lib\\site-packages)\n",
      "WARNING: Ignoring invalid distribution ~~p (C:\\Python312\\Lib\\site-packages)\n"
     ]
    }
   ],
   "source": [
    "#Borrar esta celda despues de ejecutarla\n",
    "!pip install numpy\n",
    "!pip install matplotlib"
   ]
  },
  {
   "cell_type": "code",
   "execution_count": 8,
   "metadata": {},
   "outputs": [],
   "source": [
    "import numpy as np\n",
    "import matplotlib.pyplot as plt\n",
    "from struct import pack, unpack"
   ]
  },
  {
   "cell_type": "markdown",
   "metadata": {},
   "source": [
    "# Funciones\n",
    "\n",
    "Para la implementación de las preguntas, considere que **solo** tiene a su disposición las siguientes funciones:\n",
    "\n",
    "* **np.array(x)**: Convierte **x** en un arreglo de NumPy.\n",
    "* **np.arange(n)**: Para **n** un número entero positivo entrega un vector de largo **n** con números enteros desde 0 a n-1.\n",
    "* **np.abs(x)**: Entrega el valor absoluto de **x**.\n",
    "* **np.power(x)**: Evalúa la expresión $x^n$ si **x** y **n** son escalares. En caso de que **x** e **n** sean vectores, deben tener la misma\n",
    "dimensión y entrega la evaluación elemento a elemento. Si solo uno de los términos es un vector, entrega el vector donde\n",
    "el término constante se consideró para cada término de vector.\n",
    "* **np.sqrt(x)**: Entrega la evaluación de la raíz cuadrada no negativa de un vector o escalar **x**.\n",
    "* **np.sum(x)**: Entrega la suma de los elementos de un vector **x**.\n",
    "* **np.sort(x, axis)**: Ordena los elementos de **x** de menor a mayor a lo largo del eje especificado. Si **x** es un vector, entrega un nuevo vector ordenado. Si **x** es una matriz, por defecto (**axis**=-1) ordena cada fila de forma independiente. Puedes usar **axis**=0 para ordenar por columnas y **axis**=1 para ordenar por filas.\n",
    "* **pack(_format_, _value 1_, _value 2_, ...)**: Retorna un **bytes object**, que permite obtener los octetos de la representacion binaria, el formato es una string formado de dos char, \"<\" para little-endian y \">\" para Big-endian, seguido de la siguiente tabla para los formatos:\n",
    "\n",
    "    | Format | C Type                | Python Type     | Standard Size |\n",
    "    |--------|-----------------------|----------------|---------------|\n",
    "    | x      | pad byte              | no value       |               ||\n",
    "    | c      | char                  | bytes of length 1 | 1         |\n",
    "    | b      | signed char           | integer        | 1             |\n",
    "    | B      | unsigned char         | integer        | 1             |\n",
    "    | ?      | _Bool                 | bool           | 1             |\n",
    "    | h      | short                 | integer        | 2             |\n",
    "    | H      | unsigned short        | integer        | 2             |\n",
    "    | i      | int                   | integer        | 4             |\n",
    "    | I      | unsigned int          | integer        | 4             |\n",
    "    | l      | long                  | integer        | 4             |\n",
    "    | L      | unsigned long         | integer        | 4             |\n",
    "    | q      | long long             | integer        | 8             |\n",
    "    | Q      | unsigned long long    | integer        | 8             |\n",
    "    | n      | ssize_t               | integer        |               |\n",
    "    | N      | size_t                | integer        |               |\n",
    "    | e      | (6)                   | float          | 2             |\n",
    "    | f      | float                 | float          | 4             |\n",
    "    | d      | double                | float          | 8             |\n",
    "    | s      | char[]                | bytes          |               |\n",
    "    | p      | char[]                | bytes          |               |\n",
    "    | P      | void*                 | integer        |               |\n",
    "\n",
    "* **bytes.zfill(_width_)**: Retorna una copia de la secuencia rellenando con \"0\" hasta hacer la secuencia del largo width.\n",
    "* **bin(x)**: Convierte un int a una cadena binaria con el prefijo “0b”"
   ]
  },
  {
   "cell_type": "markdown",
   "metadata": {},
   "source": [
    "# Pregunta 1\n",
    "\n",
    "1.1 **(35 puntos)** Conociendo el *estándar de punto flotante IEEE 754*, el cual tiene un bit implicito, un bit reservado para el signo, y dependiendo de la precision *x* bits de exponente e *y* bits de mantissa.\n",
    "Contruya la función `float_to_bin`, la cual recibe como parámetros `number` y `precision`. La función debe retornar el número dado por parámetro en *estándar de punto flotante* según la precisión dada.\n",
    "\n",
    "*Hint: Python cannot convert a float to an int natively, so the use of `pack()` is recommended. Additionally, you can use Python `f-strings` to manipulate the representation of data.*\n"
   ]
  },
  {
   "cell_type": "code",
   "execution_count": null,
   "metadata": {},
   "outputs": [
    {
     "name": "stdout",
     "output_type": "stream",
     "text": [
      "('1', '10000010', 'b1010100000000000000000000')\n"
     ]
    }
   ],
   "source": [
    "def float_to_bin(number, precision):\n",
    "    \"\"\"\n",
    "    input:\n",
    "    number          : (float) A number in float python type\n",
    "    precision       : (int) the representation to use, it can only be 16,\n",
    "                      32 or 64 bits\n",
    "\n",
    "    output:\n",
    "    result_tuple    : (tuple) A tuple containing three binary strings (sign, exponent, and mantissa) \n",
    "                              representing a number in the IEEE 754 16-bit, 32-bit or 64-bit floating-point standard.\n",
    "    \"\"\"\n",
    "    #acá va su codigo\n",
    "    #--------------------------------\n",
    "    if precision==16:\n",
    "        numero=np.array(number,dtype=np.float16)\n",
    "        exp=5\n",
    "        mantisa=10\n",
    "        bias=15\n",
    "    elif precision==32:\n",
    "        numero=np.array(number,dtype=np.float32)\n",
    "        exp=8\n",
    "        mantisa=23\n",
    "        bias=127\n",
    "    elif precision==64:\n",
    "        numero=np.array(number,dtype=np.float64)\n",
    "        exp=11\n",
    "        mantisa=52\n",
    "        bias=1023\n",
    "    sign = np.sign(numero)\n",
    "    sign = int(sign < 0)         \n",
    "    sign = bin(sign)[2:]          \n",
    "    sign = sign.zfill(1)\n",
    "    mantissa, exponent = np.frexp(numero)\n",
    "    exponent = bin(int(exponent + bias))[2:].zfill(exp)\n",
    "    mantissa = mantissa * 2 - 1\n",
    "    mantissa = int(mantissa * np.power(2., mantisa))  \n",
    "    mantissa = bin(mantissa)[2:].zfill(mantisa)\n",
    "   \n",
    "    #--------------------------------\n",
    "    result_tuple = (sign, exponent, mantissa)\n",
    "    return result_tuple"
   ]
  },
  {
   "cell_type": "markdown",
   "metadata": {},
   "source": [
    "1.2 **(10 puntos)** Dado el número decimal $\\pi$, obtenga su *error absoluto de redondeo* y su *cota superior* en *half precision*. Finalmente, explique por qué el *error absoluto* de representar un número es proporcional al tamaño del número original.\n",
    "\n",
    "$$ |fl(x) - x| \\leq \\frac{1}{2} \\cdot \\epsilon_{mach}|x| $$"
   ]
  },
  {
   "cell_type": "code",
   "execution_count": 20,
   "metadata": {},
   "outputs": [
    {
     "data": {
      "text/plain": [
       "('0', '10001', '1001001000')"
      ]
     },
     "execution_count": 20,
     "metadata": {},
     "output_type": "execute_result"
    }
   ],
   "source": [
    "#No modificar este código, solamente ejecute.\n",
    "float_to_bin(np.pi, 16)"
   ]
  },
  {
   "cell_type": "code",
   "execution_count": 21,
   "metadata": {},
   "outputs": [
    {
     "data": {
      "text/plain": [
       "(np.float16(0.0), np.float64(0.0015339807878856412))"
      ]
     },
     "execution_count": 21,
     "metadata": {},
     "output_type": "execute_result"
    }
   ],
   "source": [
    "#acá va su codigo\n",
    "#--------------------------------\n",
    "numero = np.pi  \n",
    "pi_half = np.array(numero, dtype=np.float16)\n",
    "err_abs = np.abs(pi_half - numero)\n",
    "eps_mach = np.power(2., -10)\n",
    "cota_sup = 0.5 * eps_mach * np.abs(numero)\n",
    "\n",
    "#--------------------------------\n",
    "(err_abs, cota_sup)"
   ]
  },
  {
   "cell_type": "markdown",
   "metadata": {},
   "source": [
    "**---------------------------------------------------------------------------------------------------------------------------**\n",
    "\n",
    "**Respuesta:** Se debe representar un número que es proporcional al tamaño del original ya que, $\\epsilon_{mach}$ corresponde a la presición de la máquina y la distancia que debe hacer entre el número y la precision de la máquina más 1 no debe superar la $\\epsilon_{mach}$ \n",
    "\n",
    "**---------------------------------------------------------------------------------------------------------------------------**"
   ]
  },
  {
   "cell_type": "markdown",
   "metadata": {},
   "source": [
    "# Pregunta 2\n",
    "\n",
    "Dada la siguiente función:\n",
    "\n",
    "$$ f(k) = \\frac{\\sqrt{k} - 4}{k} $$\n",
    "\n",
    "Se requiere trabajar con su derivada, pero dado que derivar directamente esta función puede ser muy costoso computacionalmente, es necesario emplear el método de *Diferencias Finitas* para aproximar su derivada. En este caso, utilizaremos la fórmula de *Central Difference*, que se aplica a nuestra función de la siguiente manera:\n",
    "\n",
    "$$ f'(k, h) = \\lim_{h \\to 0} \\frac{f(k + h) - f(k - h)}{2h} $$\n",
    "\n",
    "Donde el valor de $h$, representa el tamaño del intervalo utilizado para aproximar la derivada, por lo tanto, $h$ debe ser lo suficientemente pequeño de modo que la aproximación sea precisa y la expresión se acerque al valor real del límite. Un $h$ pequeño reduce el error de la derivada, sin embargo, esta variable no puede ser arbitrariamente pequeña, ya que en *double precision* esto puede introducir problemas de pérdida de importancia y de error de cancelación.\n",
    "\n",
    "Debido a esto, se define $h$ como una función de una variable x:\n",
    "\n",
    "$$ h(x) = 2^{-x} $$\n",
    "\n",
    "Esto implica que a medida que $x$ aumenta, $h(x)$ se hace exponencialmente más pequeño.\n",
    "\n",
    "Dados estos cambios, se obtiene la siguiente función:\n",
    "\n",
    "$$ f'(k, x) = \\frac{\\frac{\\sqrt{k + 2^{-x}} - 4}{k + 2^{-x}} - \\frac{\\sqrt{k - 2^{-x}} - 4}{k - 2^{-x}}}{2 \\cdot 2^{-x}} $$\n",
    "\n",
    "Sean $g_1(k, h)$ y $g_2(k, h)$, el primer y segundo término del numerador de la función $f'(k, x)$, respectivamente. Estas funciones quedan definidas como:\n",
    "\n",
    "$$ g_1(k, x) = \\frac{\\sqrt{k + 2^{-x}} - 4}{k + 2^{-x}} $$\n",
    "\n",
    "$$ g_2(k, x) = \\frac{\\sqrt{k - 2^{-x}} - 4}{k - 2^{-x}} $$\n",
    "\n",
    "Donde se considerará un valor de *k* fijo y un valor de x variable con el objetivo de analizar el comportamiento de dicha función según el valor de este último parámetro."
   ]
  },
  {
   "cell_type": "code",
   "execution_count": 3,
   "metadata": {},
   "outputs": [],
   "source": [
    "#No modificar este código, solamente ejecute.\n",
    "g1 = lambda k, x: (np.sqrt(k + np.power(2., -x)) - 4)/(k + np.power(2., -x))\n",
    "g2 = lambda k, x: (np.sqrt(k - np.power(2., -x)) - 4)/(k - np.power(2., -x))\n",
    "f_prime = lambda k, x: (g1(k, x) - g2(k, x))/(2*np.power(2., -x))"
   ]
  },
  {
   "cell_type": "code",
   "execution_count": 10,
   "metadata": {},
   "outputs": [
    {
     "data": {
      "image/png": "[encoded data removed]",
      "text/plain": [
       "<Figure size 800x400 with 1 Axes>"
      ]
     },
     "metadata": {},
     "output_type": "display_data"
    }
   ],
   "source": [
    "#No modificar este código, solamente ejecute.\n",
    "k = 16\n",
    "x = np.arange(30, 55, 0.01)\n",
    "\n",
    "plt.figure(figsize=(8, 4))\n",
    "plt.plot(x, f_prime(k, x))\n",
    "\n",
    "plt.xlabel(\"$x$\")\n",
    "plt.ylabel(\"$f(k, x)$\")\n",
    "plt.title(\"Gráfico de la función $f'(k, x)$ para $k = 16$\")\n",
    "plt.xticks(np.arange(30, 55, 6))\n",
    "\n",
    "plt.grid(True, which=\"both\", linestyle=\"--\", linewidth=0.5)\n",
    "\n",
    "plt.show()"
   ]
  },
  {
   "cell_type": "markdown",
   "metadata": {},
   "source": [
    "2.1 **(40 puntos)** Encuentre el menor $x \\in \\mathbb{N}$ tal que las funciones $g_1(k, x)$, $g_2(k, x)$ y $f'(k, x)$ sean iguales a $0$ en *double precision* para un valor fijo $k = 16$ (Evalúe cada caso para cada función)."
   ]
  },
  {
   "cell_type": "markdown",
   "metadata": {},
   "source": [
    "**---------------------------------------------------------------------------------------------------------------------------**\n",
    "\n",
    "**Respuesta:** Analizando el gráfico,se puede observar que el menor número x que da 0 es el 51 aproximadamente, esto debido a que al evaluar en las funciones $g_1(k, x)$, $g_2(k, x)$ para ese número, nos da que hay pérdida de importancia, dando como resultado 0 a partir de ese número en adelante \n",
    "\n",
    "**---------------------------------------------------------------------------------------------------------------------------**"
   ]
  },
  {
   "cell_type": "markdown",
   "metadata": {},
   "source": [
    "2.2 **(15 puntos)** Construya la función `gap_non_representable`, la cual recibe como parámetro el número `num_ieee754` en *estándar de punto flotante de 64 bits*. La función debe retornar el tamaño del *gap* o *distancia* para la suma y la resta, donde ocurra *pérdida de importancia*."
   ]
  },
  {
   "cell_type": "code",
   "execution_count": 30,
   "metadata": {},
   "outputs": [],
   "source": [
    "def gap_non_representable(num_ieee754):\n",
    "    \"\"\"\n",
    "    input:\n",
    "    num_ieee754    : (tuple) A tuple containing three binary strings (sign, exponent, and mantissa) \n",
    "                             representing a number in the IEEE 754 64-bit floating-point standard.\n",
    "\n",
    "    output:\n",
    "    result_str     : (str) A string in the format \"2^(-exp_pos), 2^(-exp_neg)\", where:\n",
    "                            - exp_pos is the exponent that represents the gap between the number and the next non-representable number greater than it.\n",
    "                            - exp_neg is the exponent that represents the gap between the number and the next non-representable number less than it.\n",
    "    \"\"\"\n",
    "    #acá va su codigo\n",
    "    #--------------------------------\n",
    "    signo,exponente,mantisa= num_ieee754\n",
    "    bits=signo+exponente+mantisa\n",
    "    cant_bits=int(bits,2)\n",
    "    packed = cant_bits.to_bytes(8, byteorder='big')\n",
    "    numero = np.array(np.frombuffer(packed, dtype='>f8')[0])\n",
    "    mantisa, exponente = np.frexp(numero)\n",
    "\n",
    "    exp_pos = 52 - exponente\n",
    "    exp_neg = 52 - exponente\n",
    "    #--------------------------------\n",
    "    result_str = f\"2^{{-{exp_pos}}}, 2^{{-{exp_neg}}}\"\n",
    "    return result_str"
   ]
  },
  {
   "cell_type": "code",
   "execution_count": 31,
   "metadata": {},
   "outputs": [
    {
     "data": {
      "text/plain": [
       "'2^{-46}, 2^{-46}'"
      ]
     },
     "execution_count": 31,
     "metadata": {},
     "output_type": "execute_result"
    }
   ],
   "source": [
    "#No modificar este código, solamente ejecute.\n",
    "num_ieee754 = float_to_bin(16.0, 64)\n",
    "gap_non_representable(num_ieee754)"
   ]
  }
 ],
 "metadata": {
  "kernelspec": {
   "display_name": "Python 3",
   "language": "python",
   "name": "python3"
  },
  "language_info": {
   "codemirror_mode": {
    "name": "ipython",
    "version": 3
   },
   "file_extension": ".py",
   "mimetype": "text/x-python",
   "name": "python",
   "nbconvert_exporter": "python",
   "pygments_lexer": "ipython3",
   "version": "3.12.3"
  }
 },
 "nbformat": 4,
 "nbformat_minor": 2
}

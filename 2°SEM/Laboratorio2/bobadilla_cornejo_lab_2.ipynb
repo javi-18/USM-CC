{
  "cells": [
    {
      "cell_type": "markdown",
      "id": "2b0be011",
      "metadata": {
        "id": "2b0be011"
      },
      "source": [
        "<center>\n",
        "    <img src=\"http://sct.inf.utfsm.cl/wp-content/uploads/2020/04/logo_di.png\" style=\"width:60%\">\n",
        "    <h1> INF285 - Computación Científica </h1>\n",
        "    <h2> Laboratorio 2</h2>\n",
        "    <h2> [S]cientific [C]omputing [T]eam </a> </h2>\n",
        "    <h2> 2025-2</h2>\n",
        "</center>"
      ]
    },
    {
      "cell_type": "code",
      "execution_count": 2,
      "id": "DTf0x0HNNf6J",
      "metadata": {
        "id": "DTf0x0HNNf6J"
      },
      "outputs": [],
      "source": [
        "import numpy as np\n",
        "import matplotlib.pyplot as plt\n",
        "import time\n",
        "from ipywidgets import interact"
      ]
    },
    {
      "cell_type": "code",
      "execution_count": 11,
      "id": "qU8eJUHkMOHb",
      "metadata": {
        "id": "qU8eJUHkMOHb"
      },
      "outputs": [],
      "source": [
        "# No modificar este código\n",
        "def solve_triangular(A, b, upper=True):\n",
        "    n = b.shape[0]\n",
        "    x = np.zeros_like(b)\n",
        "    if upper==True:\n",
        "        #perform backward-substitution\n",
        "        x[-1] = (1./A[-1,-1]) * b[-1]\n",
        "        for i in range(n-2, -1, -1):\n",
        "            x[i] = (1./A[i,i]) * (b[i] - np.sum(A[i,i+1:] * x[i+1:]))\n",
        "    else:\n",
        "        #perform forward-substitution\n",
        "        x[0] = (1./A[0,0]) * b[0]\n",
        "        for i in range(1,n):\n",
        "            x[i] = (1./A[i,i]) * (b[i] - np.sum(A[i,:i] * x[:i]))\n",
        "    return x\n",
        "\n",
        "\n",
        "#permutation between rows i and j on matrix A\n",
        "def row_perm(A, i, j):\n",
        "    tmp = np.copy(A[i])\n",
        "    A[i] = A[j]\n",
        "    A[j] = tmp\n",
        "\n",
        "\n",
        "def palu_decomp(A, show=False, print_precision=2):\n",
        "    N,_ = A.shape\n",
        "    P = np.identity(N)\n",
        "    L = np.zeros((N,N))\n",
        "    U = np.copy(A)\n",
        "    if show:\n",
        "        print('Initial matrices')\n",
        "        print('P = '); print(np.array_str(P, precision=print_precision, suppress_small=True))\n",
        "        print('L = '); print(np.array_str(L+np.eye(N), precision=print_precision, suppress_small=True))\n",
        "        print('U = '); print(np.array_str(U, precision=print_precision, suppress_small=True))\n",
        "        print('----------------------------------------')\n",
        "    #iterating through columns\n",
        "    for j in range(N-1):\n",
        "        #determine the new pivot\n",
        "        p_index = np.argmax(np.abs(U[j:,j]))\n",
        "        if p_index != 0:\n",
        "            row_perm(P, j, j+p_index)\n",
        "            row_perm(U, j, j+p_index)\n",
        "            row_perm(L, j, j+p_index)\n",
        "            if show:\n",
        "                print('A permutation has been made')\n",
        "                print('P = '); print(np.array_str(P, precision=print_precision, suppress_small=True))\n",
        "                print('L = '); print(np.array_str(L+np.eye(N), precision=print_precision, suppress_small=True))\n",
        "                print('U = '); print(np.array_str(U, precision=print_precision, suppress_small=True))\n",
        "                print('----------------------------------------')\n",
        "        #iterating through rows\n",
        "        for i in range(j+1,N):\n",
        "            L[i,j] = U[i,j]/U[j,j]\n",
        "            U[i] -= L[i,j]*U[j]\n",
        "            if show:\n",
        "                print('P = '); print(np.array_str(P, precision=print_precision, suppress_small=True))\n",
        "                print('L = '); print(np.array_str(L+np.eye(N), precision=print_precision, suppress_small=True))\n",
        "                print('U = '); print(np.array_str(U, precision=print_precision, suppress_small=True))\n",
        "                print('----------------------------------------')\n",
        "    np.fill_diagonal(L,1)\n",
        "    return P,L,U\n",
        "\n",
        "\n",
        "def solve_palu(A, b, show=False, print_precision=2):\n",
        "    P,L,U = palu_decomp(A, show, print_precision=print_precision)\n",
        "    # A.x = b -> P.A.x = P.b = b' -> L.U.x = b'\n",
        "    b = np.dot(P,b)\n",
        "    # L.c = b' with c = U.x\n",
        "    c = solve_triangular(L, b, upper=False)\n",
        "    x = solve_triangular(U, c)\n",
        "    return x"
      ]
    },
    {
      "cell_type": "markdown",
      "id": "14d50235",
      "metadata": {
        "id": "14d50235"
      },
      "source": [
        "## Funciones\n",
        "\n",
        "Para la implementación de las preguntas, considere que **solo** tiene a su disposición las siguientes funciones:\n",
        "\n",
        "- **np.array(x)**: Convierte **x** en un arreglo de NumPy.\n",
        "\n",
        "- **np.zeros(n)**: Crea un arreglo de NumPy con **n** ceros.\n",
        "\n",
        "- **np.ones(n)**: Crea un arreglo de NumPy con **n** unos.\n",
        "\n",
        "- **np.sin(x)**: Devuelve $\\sin(x)$, donde **x** puede ser un escalar o un vector.\n",
        "\n",
        "- **np.cos(x)**: Devuelve $\\cos(x)$, donde **x** puede ser un escalar o un vector.\n",
        "\n",
        "- **np.power(x, n)**: Evalúa la expresión $x^n$ si **x** y **n** son escalares. En caso de que **x** e **n** sean vectores, deben tener la misma dimensión y entrega la evaluación elemento a elemento. Si solo uno de los términos es un vector, entrega el vector donde el término constante se consideró para cada término de vector.\n",
        "\n",
        "- **np.dot(x, y)**: Si ambas variables son vectores devuelve su producto punto, si una es una matriz y la otra un vector devuelve su producto matriz-vector, si ambas son matrices devuelve su producto matricial.\n",
        "\n",
        "- **np.diag(A, {k=-1,k=0,k=1})**: Si **A** es una matriz, retorna el vector con sus elementos de la diagonal indicada por **k** (subdiagonal, diagonal principal y supradiagonal). Si **A** es un vector, crea una matriz diagonal con esos elementos colocados en la diagonal desplazada correspondiente.\n",
        "\n",
        "- **np.concatenate(([a], x))**: Concatena el escalar **a** al inicio del vector **x**, notar que los doble parentesis son necesarios.\n",
        "\n",
        "- **np.concatenate((x, [b]))**: Concatena el escalar **b** al final vector **x**, notar que los doble parentesis son necesarios.\n",
        "\n",
        "- **solve_triangular(A, b, upper)**: Resuelve el sistema $A\\vec{x} = \\vec{b}$ para $A$ triangular. Usa forward-substitution si `upper=False`, y backward-substitution si `upper=True`.\n",
        "\n",
        "- **palu_decomp(A)**: Calcula la descomposición $PA = LU$ de la matriz $A$, devuelve las matrices $P$, $L$ y $U$ tales que $A = P^{T}LU$. Con $P$ la matriz de permutación transpuesta, $L$ una matriz triangular inferior, y $U$ una matriz triangular superior.\n",
        "\n",
        "- **np.linalg.norm(x, ord=2)**: Siendo **x** un vector, devuelve la norma 2 de **x**, osea devuelve $\\|x\\|_2$.\n",
        "\n",
        "- **len(x)**: Devuelve el largo de **x**.\n",
        "\n",
        "- **range(a, b)**: Crea un objeto iterable que produce los enteros desde **a** hasta **b-1** (incluye **a**, excluye **b**)."
      ]
    },
    {
      "cell_type": "markdown",
      "id": "vicIShDjAd--",
      "metadata": {
        "id": "vicIShDjAd--"
      },
      "source": [
        "## Introducción\n",
        "\n",
        "El péndulo no lineal amortiguado es un sistema fundamental para el estudio de fenómenos dinámicos donde intervienen fuerzas restauradoras no lineales y disipación. La ecuación diferencial que lo describe incluye tanto el efecto de la gravedad, que depende del ángulo a través de la función seno, como la fricción, que introduce amortiguamiento en el movimiento.\n",
        "\n",
        "En muchas aplicaciones es relevante analizar el comportamiento del péndulo cuando se imponen restricciones en los valores del ángulo al inicio y al final de un intervalo de tiempo. Este tipo de planteamiento, conocido como problema de valores frontera (BVP), permite modelar trayectorias bajo condiciones específicas.\n",
        "\n",
        "Se desea determinar la evolución angular $\\theta (t)$ de un péndulo de longitud $L$, sometido a amortiguamiento y gravedad, cumpliendo condiciones de frontera especificadas al inicio y al final del intervalo temporal:\n",
        "\n",
        "$$\n",
        "L\\frac{d^2\\theta}{dt^2} + b\\frac{d\\theta}{dt} + g \\sin (\\theta) = 0, \\quad t \\in [0,T],\n",
        "$$\n",
        "\n",
        "$$\n",
        "\\theta (0)=\\theta_0,\\; \\theta (T)=\\theta_T.\n",
        "$$\n",
        "\n",
        "Aquí, $b$ controla la fuerza disipativa, $g$ es la aceleración gravitacional, y los valores de $\\theta_0$, $\\theta_T$ fijan los ángulos en los extremos.\n",
        "\n",
        "Para resolver el sistema, se divide el intervalo temporal en $n+1$ puntos equidistantes, usando diferencias finitas para aproximar derivadas. Así, cada punto $t_i$ se asocia a un valor desconocido $\\theta_i$, excepto en los extremos donde los valores son impuestos por las condiciones de frontera.\n",
        "\n",
        "Para cada nodo interno $(i = 1, \\ldots, n-1)$, la ecuación discreta es:\n",
        "\n",
        "$$\n",
        "\\mathbf{F}_i(\\boldsymbol{\\theta}) = \\frac{L}{h^2}(\\theta_{i-1} - 2\\theta_i + \\theta_{i+1}) + \\frac{b}{2h}(\\theta_{i+1} - \\theta_{i-1}) + g \\sin (\\theta_{i})\n",
        "$$\n",
        "\n",
        "Resolver este sistema implica encontrar los valores de $\\theta_i$ que satisfacen todas las ecuaciones simultáneamente."
      ]
    },
    {
      "cell_type": "markdown",
      "id": "3tiFJMyWOHsh",
      "metadata": {
        "id": "3tiFJMyWOHsh"
      },
      "source": [
        "## Preguntas\n",
        "\n",
        "Al juntar todas las ecuaciones en el sistema $\\mathbf{F}(\\mathbf{\\theta}) = \\mathbf{0}$ y aplicando las condiciones de frontera, se obtiene la siguiente función vector:\n",
        "\n",
        "$$\n",
        "\\begin{align*}\n",
        "   \\mathbf{F}(\\boldsymbol{\\theta}) &=\n",
        "    \\begin{bmatrix}\n",
        "       \\dfrac{L}{h^2}(\\theta_{0} - 2\\theta_1 + \\theta_{2}) + \\dfrac{b}{2h}(\\theta_{2} - \\theta_{0}) + g \\sin (\\theta_{1})\\\\[0.8em]\n",
        "       \\dfrac{L}{h^2}(\\theta_{1} - 2\\theta_2 + \\theta_{3}) + \\dfrac{b}{2h}(\\theta_{3} - \\theta_{1}) + g \\sin (\\theta_{2})\\\\[0.8em]\n",
        "       \\vdots\\\\[0.8em]\n",
        "       \\dfrac{L}{h^2}(\\theta_{i-1} - 2\\theta_i + \\theta_{i+1}) + \\dfrac{b}{2h}(\\theta_{i+1} - \\theta_{i-1}) + g \\sin (\\theta_{i})\\\\[0.8em]\n",
        "       \\vdots\\\\[0.8em]\n",
        "       \\dfrac{L}{h^2}(\\theta_{n-3} - 2\\theta_{n-2} + \\theta_{n-1}) + \\dfrac{b}{2h}(\\theta_{n-1} - \\theta_{n-3}) + g \\sin (\\theta_{n-2})\\\\[0.8em]\n",
        "       \\dfrac{L}{h^2}(\\theta_{n-2} - 2\\theta_{n-1} + \\theta_{T}) + \\dfrac{b}{2h}(\\theta_{T} - \\theta_{n-2}) + g \\sin (\\theta_{n-1})\\\\[0.8em]\n",
        "    \\end{bmatrix}\n",
        "\\end{align*}\n",
        "$$"
      ]
    },
    {
      "cell_type": "markdown",
      "id": "FCorjsF8kkxZ",
      "metadata": {
        "id": "FCorjsF8kkxZ"
      },
      "source": [
        "1. **(25 puntos)** Implemente la función $\\mathbf{F}$ en código, tal que, dado un vector de valores de $\\theta$ la función devuelva $\\mathbf{F}(\\boldsymbol{\\theta})$. Con el objetivo de que se pueda ocupar en el método de *Newton*.\n",
        "\n",
        "    *Hint: It might be better to concatenate $\\theta_0$ and $\\theta_T$ to the array $\\boldsymbol{\\theta}$ before computing $\\mathbf{F}(\\boldsymbol{\\theta})$.*\n"
      ]
    },
    {
      "cell_type": "code",
      "execution_count": 6,
      "id": "_FPgIGvACj8k",
      "metadata": {
        "id": "_FPgIGvACj8k",
        "colab": {
          "base_uri": "https://localhost:8080/"
        },
        "outputId": "bcd67bfb-9fa2-4b39-9c34-b686b435e1c3"
      },
      "outputs": [
        {
          "output_type": "stream",
          "name": "stdout",
          "text": [
            "(4,)\n",
            "[  1.07836748   2.04695944   2.99609803 -46.33370025]\n"
          ]
        }
      ],
      "source": [
        "def F(theta, L, b, g, h, theta0, thetaT):\n",
        "  \"\"\"\n",
        "  input:\n",
        "  theta  : (ndarray) Vector of theta values.\n",
        "  L      : (float) Length of the pendulum.\n",
        "  b      : (float) Damping coefficient.\n",
        "  g      : (float) Gravity acceleration.\n",
        "  h      : (float) Finite difference constant.\n",
        "  theta0 : (float) Boundary constant at theta(0).\n",
        "  thetaT : (float) Boundary constant at theta(T).\n",
        "\n",
        "  output:\n",
        "  f      : (ndarray) Vector of theta values evaluated on F.\n",
        "  \"\"\"\n",
        "  ###### acá va su código ######\n",
        "  n=len(theta)\n",
        "  th=np.zeros(n + 2)\n",
        "  th[0] = theta0\n",
        "  th[ n + 1] = thetaT\n",
        "  th[1:n+1] = theta\n",
        "  invh= 1.0/h\n",
        "  inv2h= invh*invh\n",
        "  d2 = (th[2:n+2] - 2.0 * th[1:n+1] + th[0:n]) * inv2h\n",
        "  d1 = (th[2:n+2] - th[0:n]) * (0.5 * invh)\n",
        "  f = d2 + (b / L) * d1 + (g / L) * np.sin(th[1:n+1])\n",
        "\n",
        "\n",
        "  ###### acá va su código ######\n",
        "  return f"
      ]
    },
    {
      "cell_type": "markdown",
      "id": "BRE99bwLAWvh",
      "metadata": {
        "id": "BRE99bwLAWvh"
      },
      "source": [
        "2. **(25 puntos)**\n",
        "Implemente la función para calcular el jacobiano $\\mathbf{J}$ en código, tal que, dado un vector de valores de $\\theta$ la función devuelva $\\mathbf{J}(\\boldsymbol{\\theta})$. Con el objetivo de que se pueda ocupar en el método de *Newton*."
      ]
    },
    {
      "cell_type": "code",
      "execution_count": 7,
      "id": "WZk-i2gxGwMt",
      "metadata": {
        "id": "WZk-i2gxGwMt",
        "colab": {
          "base_uri": "https://localhost:8080/"
        },
        "outputId": "f1a97724-2ced-4e7d-df13-357eeaadb3f0"
      },
      "outputs": [
        {
          "output_type": "stream",
          "name": "stdout",
          "text": [
            "(5, 5)\n",
            "(5,)\n"
          ]
        }
      ],
      "source": [
        "def JacF(theta, L, b, g, h):\n",
        "  \"\"\"\n",
        "  input:\n",
        "  theta  : (ndarray) Vector of theta values.\n",
        "  L      : (float) Length of the pendulum.\n",
        "  b      : (float) Damping coefficient.\n",
        "  g      : (float) Gravity acceleration.\n",
        "  h      : (float) Finite difference constant.\n",
        "\n",
        "  output:\n",
        "  J     : (ndarray) Jacobian of F evaluated on theta values.\n",
        "  \"\"\"\n",
        "  ###### acá va su código ######\n",
        "  N    = len(theta)\n",
        "  invh = 1.0 / h\n",
        "  invh2 = invh * invh\n",
        "  d1   = (b / L) * (0.5 * invh)\n",
        "  diag = (g / L) * np.cos(theta) - 2.0 * invh2\n",
        "  sub  = (np.ones(N-1) * (invh2 - d1)) if N > 1 else np.zeros(0)\n",
        "  sup  = (np.ones(N-1) * (invh2 + d1)) if N > 1 else np.zeros(0)\n",
        "  J = np.diag(diag)\n",
        "  if N > 1:\n",
        "    J = J + np.diag(sub, k=-1) + np.diag(sup, k=+1)\n",
        "\n",
        "  ###### acá va su código ######\n",
        "  return J\n",
        "\n"
      ]
    },
    {
      "cell_type": "markdown",
      "id": "tbV04JzhRnj3",
      "metadata": {
        "id": "tbV04JzhRnj3"
      },
      "source": [
        "Ahora que tenemos tanto $\\mathbf{F}(\\boldsymbol{\\theta})$ como el jacobiano $\\mathbf{J}(\\boldsymbol{\\theta})$, podemos ocupar el método iterativo de *Newton* para $\\mathbb{R}^n$ para encontrar la solución del BVP del péndulo.\n",
        "\n",
        "3. **(25 puntos)** Implemente la función `QuasiNewton(theta, L, b, g, h, theta0, thetaT, iterNewton=30, iterPALU=1)` que resuelva el problema usando un método tipo Newton para $\\mathbb{R}^n$.\n",
        "\n",
        "La diferencia de **QuasiNewton** con el método de Newton estándar es que, en cada iteración, en vez de aplicar PALU una sola vez, se pueda aplicar PALU una cantidad `iterPALU` de veces, para evitar tener que recalcular $\\mathbf{J}$. Notar que si `iterPALU = 1`, el método coincide con Newton estándar.\n",
        "\n",
        "La función debe devolver la aproximación final de la BVP, y el vector de errores obtenidos en cada iteración de Newton (no de PALU).\n",
        "\n",
        "*Hint: The error is the 2-norm of the correction vector.*"
      ]
    },
    {
      "cell_type": "code",
      "execution_count": 8,
      "id": "JEqaMmdyIRjN",
      "metadata": {
        "id": "JEqaMmdyIRjN"
      },
      "outputs": [],
      "source": [
        "def QuasiNewton(theta, L, b, g, h, theta0, thetaT, iterNewton=30, iterPALU=1, delta=1e-12):\n",
        "  \"\"\"\n",
        "  input:\n",
        "  theta      : (ndarray) Vector of guess values of theta.\n",
        "  L          : (float) Length of the pendulum.\n",
        "  b          : (float) Damping coefficient.\n",
        "  g          : (float) Gravity acceleration.\n",
        "  h          : (float) Finite difference constant.\n",
        "  theta0     : (float) Boundary constant at theta(0)\n",
        "  thetaT     : (float) Boundary constant at theta(T)\n",
        "  iterNewton : (int) Maximum number of iterations of Newton.\n",
        "  iterPALU   : (int) Maximum number of iterations of PALU per iteration of Newton.\n",
        "  delta      : (float) Threshold tolerance for stopping criteria, i.e. if ||F(theta)||_2<tol, stop.\n",
        "\n",
        "  output:\n",
        "  theta_f : (ndarray) Theta values solutions of the BVP using Newton Rn (Includes theta0 and thetaT).\n",
        "  errors  : (ndarray) Errors at each iteration.\n",
        "  \"\"\"\n",
        "  ###### acá va su código ######\n",
        "  errs_list = []\n",
        "  P = None\n",
        "  Lm = None\n",
        "  Um = None\n",
        "  for k in range(iterNewton):\n",
        "      r  = F(theta, L, b, g, h, theta0, thetaT)\n",
        "      rn = np.linalg.norm(r, ord=2)\n",
        "      errs_list.append(rn)\n",
        "      if rn < delta:\n",
        "          break\n",
        "\n",
        "\n",
        "      if (k % iterPALU) == 0 or (P is None):\n",
        "        J = JacF(theta, L, b, g, h)     # matriz NxN\n",
        "        P, Lm, Um = palu_decomp(J)      # J = P^T L U\n",
        "\n",
        "\n",
        "        Pb = np.dot(P, -r)                          # P(-r)\n",
        "        y  = solve_triangular(Lm, Pb, upper=False)\n",
        "        w  = solve_triangular(Um, y,  upper=True)\n",
        "\n",
        "        theta = theta + w\n",
        "\n",
        "\n",
        "      theta_f = np.concatenate(([theta0], theta, [thetaT]))\n",
        "\n",
        "      errors = np.array(errs_list)\n",
        "\n",
        "  ###### acá va su código ######\n",
        "  return theta_f, errors"
      ]
    },
    {
      "cell_type": "markdown",
      "id": "f0b3b992",
      "metadata": {
        "id": "f0b3b992"
      },
      "source": [
        "4. **(25 puntos)** Explique si existe un valor de `iterPALU` $> 1$ que permita alcanzar un error final y un tiempo total de ejecución comparable o menor al método de Newton estándar. Notar que se ha definido un _initial guess_ conveniente, es decir el vector `-np.sin(np.linspace(0,2*np.pi,N))*beta`. Su análisis debe considerar el efecto tanto de `iterPALU` como del coeficiente $\\beta$. Hint: $\\beta$ close to the unity may be interesting."
      ]
    },
    {
      "cell_type": "markdown",
      "id": "bad3392d",
      "metadata": {
        "id": "bad3392d"
      },
      "source": [
        "---\n",
        "**Respuesta:**\n",
        " Con el *initial guess* $theta^{(0)}=\\sin(\\text{linspace}(0,2\\pi,N))\\cdot\\beta$ y $\\beta\\approx 1$, el Jacobiano cambia poco entre iteraciones, por lo que es posible congelarlo durante varios pasos $\\text{iterPALU}>1$ sin perder precisión en el error final.\n",
        " Al ver el gráfico vemos que para  $\\text{iterPALU}=1$ ambos métodos se comportan de la misma forma, tienen la misma convergencia y el mismo error\n",
        " Con valores intermedios, como `iterPALU = 2–3`, se obtiene un error final comparable al estándar pero con menos factorizaciones PALU, lo que reduce el costo total.  \n",
        " Para `iterPALU` demasiado grandes ≥10, la convergencia se degrada y ya no conviene.  \n",
        "-En cuanto a $beta$, si se elige cercano a 1 se obtiene la convergencia más rápida; si se reduce demasiado, el método necesita más pasos.\n",
        "\n",
        "Con esto podemos decir que para un iterPalu pequeño (2-3) pero con un $beta$ cercano a 1, el método de Quasi-Newton mantiene la misma precisión que el método de Newton clásico pero tiene un menor costo computacional\n",
        "---"
      ]
    },
    {
      "cell_type": "code",
      "execution_count": 9,
      "id": "4d1a3dfb",
      "metadata": {
        "id": "4d1a3dfb"
      },
      "outputs": [],
      "source": [
        "# No modificar este código\n",
        "L = 1.0\n",
        "b = 0.2\n",
        "g = 9.81\n",
        "T = 2\n",
        "N = 35\n",
        "h = T/(N+1)\n",
        "\n",
        "theta0 = 0.1\n",
        "thetaT = 0.5"
      ]
    },
    {
      "cell_type": "code",
      "execution_count": 13,
      "id": "d97eee79",
      "metadata": {
        "colab": {
          "base_uri": "https://localhost:8080/",
          "height": 658,
          "referenced_widgets": [
            "4e6e6b93a0144bceaa0a23997dd11fbd",
            "cb06a59531e14693be56d96cbc132f41",
            "120e57f2012d41e4a924e68ff3a0f69a",
            "0cf12d641c534550b571808f30387449",
            "694ad0f1b63140db987640885606ed34",
            "1be297a9c08f4414bd8d9861a1d4be12",
            "07a94efc895f44e6b5350e2ad6e61650",
            "af90a2d60de6458ca3539d4e148d3859",
            "2566148607444ac4be3fe57f0d44693f",
            "b61e0fbd1dca4127ac1d3b7988bbf3b5"
          ]
        },
        "id": "d97eee79",
        "outputId": "82f4ac50-5bd2-44c2-e8f3-58e7e6bb8e0c"
      },
      "outputs": [
        {
          "output_type": "display_data",
          "data": {
            "text/plain": [
              "interactive(children=(IntSlider(value=1, description='iterPALU_exp', max=20, min=1), FloatSlider(value=0.0, de…"
            ],
            "application/vnd.jupyter.widget-view+json": {
              "version_major": 2,
              "version_minor": 0,
              "model_id": "4e6e6b93a0144bceaa0a23997dd11fbd"
            }
          },
          "metadata": {}
        },
        {
          "output_type": "execute_result",
          "data": {
            "text/plain": [
              "<function __main__.show_comparison(iterPALU_exp=1, beta=0.0)>"
            ],
            "text/html": [
              "<div style=\"max-width:800px; border: 1px solid var(--colab-border-color);\"><style>\n",
              "      pre.function-repr-contents {\n",
              "        overflow-x: auto;\n",
              "        padding: 8px 12px;\n",
              "        max-height: 500px;\n",
              "      }\n",
              "\n",
              "      pre.function-repr-contents.function-repr-contents-collapsed {\n",
              "        cursor: pointer;\n",
              "        max-height: 100px;\n",
              "      }\n",
              "    </style>\n",
              "    <pre style=\"white-space: initial; background:\n",
              "         var(--colab-secondary-surface-color); padding: 8px 12px;\n",
              "         border-bottom: 1px solid var(--colab-border-color);\"><b>show_comparison</b><br/>def show_comparison(iterPALU_exp=1, beta=0.0)</pre><pre class=\"function-repr-contents function-repr-contents-collapsed\" style=\"\"><a class=\"filepath\" style=\"display:none\" href=\"#\">/tmp/ipython-input-3185023617.py</a>&lt;no docstring&gt;</pre></div>"
            ]
          },
          "metadata": {},
          "execution_count": 13
        }
      ],
      "source": [
        "def show_comparison(iterPALU_exp=1, beta=0.0):\n",
        "\n",
        "    # Initial guess\n",
        "    theta_guess = -np.sin(np.linspace(0,2*np.pi,N))*beta\n",
        "\n",
        "    # Newton Clásico (iterPALU = 1)\n",
        "    start = time.time()\n",
        "    theta_newton, errors_newton = QuasiNewton(theta_guess.copy(), L, b, g, h, theta0, thetaT)\n",
        "    t_newton = time.time() - start\n",
        "\n",
        "    # Quasi-Newton\n",
        "    start = time.time()\n",
        "    theta_qn, errors_qn = QuasiNewton(theta_guess.copy(), L, b, g, h, theta0, thetaT, iterNewton=30, iterPALU=iterPALU_exp)\n",
        "    t_qn = time.time() - start\n",
        "\n",
        "    # Gráfico de convergencia\n",
        "    plt.figure(figsize=(10, 5))\n",
        "    plt.subplot(121)\n",
        "    plt.plot(errors_newton, 'bo--', label=f\"Newton clásico (iterPALU=1), t={t_newton:.3f}s\")\n",
        "    plt.plot(errors_qn, 'rx--', label=f\"Quasi-Newton (iterPALU={iterPALU_exp}), t={t_qn:.3f}s\")\n",
        "    plt.yscale(\"log\")\n",
        "    plt.xlabel(\"Iteración de Newton\")\n",
        "    plt.ylabel(r\"$||w||_2$\")\n",
        "    plt.title(f\"Comparación de convergencia:\\n Newton clásico vs Quasi-Newton\")\n",
        "    plt.legend()\n",
        "    plt.grid(True)\n",
        "    plt.tight_layout()\n",
        "\n",
        "    plt.subplot(122)\n",
        "    t = np.linspace(0, T, N+2)\n",
        "\n",
        "    data = np.load('pendulum_solution.npz')\n",
        "    t_bvp = data['t']\n",
        "    theta = data['theta']\n",
        "\n",
        "    plt.plot(t_bvp, theta, 'g-', linewidth=2, label=r'$\\theta(t)$ (Solución exacta)', alpha=0.5)\n",
        "    plt.scatter(t, theta_newton, marker='o', color='blue', s=30, label=r'$\\theta(t)$ (Newton)', alpha=0.5)\n",
        "    plt.scatter(t, theta_qn, marker='s', color='red', s=30, label=r'$\\theta(t)$ (Quasi-Newton)', alpha=0.5)\n",
        "\n",
        "\n",
        "    plt.xlabel('t')\n",
        "    plt.ylabel(r'$\\theta(t)$')\n",
        "    plt.title(f\"Péndulo amortiguado:\\n Comparación de soluciones\")\n",
        "    plt.grid(True, alpha=0.3)\n",
        "    plt.legend()\n",
        "    plt.tight_layout()\n",
        "\n",
        "    plt.show()\n",
        "\n",
        "interact(show_comparison,iterPALU_exp=(1,20,1),beta=(-2,2,0.1))"
      ]
    },
    {
      "cell_type": "markdown",
      "id": "85f28e68",
      "metadata": {
        "id": "85f28e68"
      },
      "source": [
        "---\n",
        "\n",
        "### Felicidades, llegaste al final del laboratorio recuerda subir el archivo al Aula y con el nombre `apellido1_apellido2_lab_2`"
      ]
    }
  ],
  "metadata": {
    "colab": {
      "provenance": []
    },
    "kernelspec": {
      "display_name": "Python 3",
      "language": "python",
      "name": "python3"
    },
    "language_info": {
      "codemirror_mode": {
        "name": "ipython",
        "version": 3
      },
      "file_extension": ".py",
      "mimetype": "text/x-python",
      "name": "python",
      "nbconvert_exporter": "python",
      "pygments_lexer": "ipython3",
      "version": "3.10.5"
    },
    "widgets": {
      "application/vnd.jupyter.widget-state+json": {
        "4e6e6b93a0144bceaa0a23997dd11fbd": {
          "model_module": "@jupyter-widgets/controls",
          "model_name": "VBoxModel",
          "model_module_version": "1.5.0",
          "state": {
            "_dom_classes": [
              "widget-interact"
            ],
            "_model_module": "@jupyter-widgets/controls",
            "_model_module_version": "1.5.0",
            "_model_name": "VBoxModel",
            "_view_count": null,
            "_view_module": "@jupyter-widgets/controls",
            "_view_module_version": "1.5.0",
            "_view_name": "VBoxView",
            "box_style": "",
            "children": [
              "IPY_MODEL_cb06a59531e14693be56d96cbc132f41",
              "IPY_MODEL_120e57f2012d41e4a924e68ff3a0f69a",
              "IPY_MODEL_0cf12d641c534550b571808f30387449"
            ],
            "layout": "IPY_MODEL_694ad0f1b63140db987640885606ed34"
          }
        },
        "cb06a59531e14693be56d96cbc132f41": {
          "model_module": "@jupyter-widgets/controls",
          "model_name": "IntSliderModel",
          "model_module_version": "1.5.0",
          "state": {
            "_dom_classes": [],
            "_model_module": "@jupyter-widgets/controls",
            "_model_module_version": "1.5.0",
            "_model_name": "IntSliderModel",
            "_view_count": null,
            "_view_module": "@jupyter-widgets/controls",
            "_view_module_version": "1.5.0",
            "_view_name": "IntSliderView",
            "continuous_update": true,
            "description": "iterPALU_exp",
            "description_tooltip": null,
            "disabled": false,
            "layout": "IPY_MODEL_1be297a9c08f4414bd8d9861a1d4be12",
            "max": 20,
            "min": 1,
            "orientation": "horizontal",
            "readout": true,
            "readout_format": "d",
            "step": 1,
            "style": "IPY_MODEL_07a94efc895f44e6b5350e2ad6e61650",
            "value": 1
          }
        },
        "120e57f2012d41e4a924e68ff3a0f69a": {
          "model_module": "@jupyter-widgets/controls",
          "model_name": "FloatSliderModel",
          "model_module_version": "1.5.0",
          "state": {
            "_dom_classes": [],
            "_model_module": "@jupyter-widgets/controls",
            "_model_module_version": "1.5.0",
            "_model_name": "FloatSliderModel",
            "_view_count": null,
            "_view_module": "@jupyter-widgets/controls",
            "_view_module_version": "1.5.0",
            "_view_name": "FloatSliderView",
            "continuous_update": true,
            "description": "beta",
            "description_tooltip": null,
            "disabled": false,
            "layout": "IPY_MODEL_af90a2d60de6458ca3539d4e148d3859",
            "max": 2,
            "min": -2,
            "orientation": "horizontal",
            "readout": true,
            "readout_format": ".2f",
            "step": 0.1,
            "style": "IPY_MODEL_2566148607444ac4be3fe57f0d44693f",
            "value": 1
          }
        },
        "0cf12d641c534550b571808f30387449": {
          "model_module": "@jupyter-widgets/output",
          "model_name": "OutputModel",
          "model_module_version": "1.0.0",
          "state": {
            "_dom_classes": [],
            "_model_module": "@jupyter-widgets/output",
            "_model_module_version": "1.0.0",
            "_model_name": "OutputModel",
            "_view_count": null,
            "_view_module": "@jupyter-widgets/output",
            "_view_module_version": "1.0.0",
            "_view_name": "OutputView",
            "layout": "IPY_MODEL_b61e0fbd1dca4127ac1d3b7988bbf3b5",
            "msg_id": "",
            "outputs": [
              {
                "output_type": "display_data",
                "data": {
                  "text/plain": "<Figure size 1000x500 with 2 Axes>",
                  "image/png": "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\n"
                },
                "metadata": {}
              }
            ]
          }
        },
        "694ad0f1b63140db987640885606ed34": {
          "model_module": "@jupyter-widgets/base",
          "model_name": "LayoutModel",
          "model_module_version": "1.2.0",
          "state": {
            "_model_module": "@jupyter-widgets/base",
            "_model_module_version": "1.2.0",
            "_model_name": "LayoutModel",
            "_view_count": null,
            "_view_module": "@jupyter-widgets/base",
            "_view_module_version": "1.2.0",
            "_view_name": "LayoutView",
            "align_content": null,
            "align_items": null,
            "align_self": null,
            "border": null,
            "bottom": null,
            "display": null,
            "flex": null,
            "flex_flow": null,
            "grid_area": null,
            "grid_auto_columns": null,
            "grid_auto_flow": null,
            "grid_auto_rows": null,
            "grid_column": null,
            "grid_gap": null,
            "grid_row": null,
            "grid_template_areas": null,
            "grid_template_columns": null,
            "grid_template_rows": null,
            "height": null,
            "justify_content": null,
            "justify_items": null,
            "left": null,
            "margin": null,
            "max_height": null,
            "max_width": null,
            "min_height": null,
            "min_width": null,
            "object_fit": null,
            "object_position": null,
            "order": null,
            "overflow": null,
            "overflow_x": null,
            "overflow_y": null,
            "padding": null,
            "right": null,
            "top": null,
            "visibility": null,
            "width": null
          }
        },
        "1be297a9c08f4414bd8d9861a1d4be12": {
          "model_module": "@jupyter-widgets/base",
          "model_name": "LayoutModel",
          "model_module_version": "1.2.0",
          "state": {
            "_model_module": "@jupyter-widgets/base",
            "_model_module_version": "1.2.0",
            "_model_name": "LayoutModel",
            "_view_count": null,
            "_view_module": "@jupyter-widgets/base",
            "_view_module_version": "1.2.0",
            "_view_name": "LayoutView",
            "align_content": null,
            "align_items": null,
            "align_self": null,
            "border": null,
            "bottom": null,
            "display": null,
            "flex": null,
            "flex_flow": null,
            "grid_area": null,
            "grid_auto_columns": null,
            "grid_auto_flow": null,
            "grid_auto_rows": null,
            "grid_column": null,
            "grid_gap": null,
            "grid_row": null,
            "grid_template_areas": null,
            "grid_template_columns": null,
            "grid_template_rows": null,
            "height": null,
            "justify_content": null,
            "justify_items": null,
            "left": null,
            "margin": null,
            "max_height": null,
            "max_width": null,
            "min_height": null,
            "min_width": null,
            "object_fit": null,
            "object_position": null,
            "order": null,
            "overflow": null,
            "overflow_x": null,
            "overflow_y": null,
            "padding": null,
            "right": null,
            "top": null,
            "visibility": null,
            "width": null
          }
        },
        "07a94efc895f44e6b5350e2ad6e61650": {
          "model_module": "@jupyter-widgets/controls",
          "model_name": "SliderStyleModel",
          "model_module_version": "1.5.0",
          "state": {
            "_model_module": "@jupyter-widgets/controls",
            "_model_module_version": "1.5.0",
            "_model_name": "SliderStyleModel",
            "_view_count": null,
            "_view_module": "@jupyter-widgets/base",
            "_view_module_version": "1.2.0",
            "_view_name": "StyleView",
            "description_width": "",
            "handle_color": null
          }
        },
        "af90a2d60de6458ca3539d4e148d3859": {
          "model_module": "@jupyter-widgets/base",
          "model_name": "LayoutModel",
          "model_module_version": "1.2.0",
          "state": {
            "_model_module": "@jupyter-widgets/base",
            "_model_module_version": "1.2.0",
            "_model_name": "LayoutModel",
            "_view_count": null,
            "_view_module": "@jupyter-widgets/base",
            "_view_module_version": "1.2.0",
            "_view_name": "LayoutView",
            "align_content": null,
            "align_items": null,
            "align_self": null,
            "border": null,
            "bottom": null,
            "display": null,
            "flex": null,
            "flex_flow": null,
            "grid_area": null,
            "grid_auto_columns": null,
            "grid_auto_flow": null,
            "grid_auto_rows": null,
            "grid_column": null,
            "grid_gap": null,
            "grid_row": null,
            "grid_template_areas": null,
            "grid_template_columns": null,
            "grid_template_rows": null,
            "height": null,
            "justify_content": null,
            "justify_items": null,
            "left": null,
            "margin": null,
            "max_height": null,
            "max_width": null,
            "min_height": null,
            "min_width": null,
            "object_fit": null,
            "object_position": null,
            "order": null,
            "overflow": null,
            "overflow_x": null,
            "overflow_y": null,
            "padding": null,
            "right": null,
            "top": null,
            "visibility": null,
            "width": null
          }
        },
        "2566148607444ac4be3fe57f0d44693f": {
          "model_module": "@jupyter-widgets/controls",
          "model_name": "SliderStyleModel",
          "model_module_version": "1.5.0",
          "state": {
            "_model_module": "@jupyter-widgets/controls",
            "_model_module_version": "1.5.0",
            "_model_name": "SliderStyleModel",
            "_view_count": null,
            "_view_module": "@jupyter-widgets/base",
            "_view_module_version": "1.2.0",
            "_view_name": "StyleView",
            "description_width": "",
            "handle_color": null
          }
        },
        "b61e0fbd1dca4127ac1d3b7988bbf3b5": {
          "model_module": "@jupyter-widgets/base",
          "model_name": "LayoutModel",
          "model_module_version": "1.2.0",
          "state": {
            "_model_module": "@jupyter-widgets/base",
            "_model_module_version": "1.2.0",
            "_model_name": "LayoutModel",
            "_view_count": null,
            "_view_module": "@jupyter-widgets/base",
            "_view_module_version": "1.2.0",
            "_view_name": "LayoutView",
            "align_content": null,
            "align_items": null,
            "align_self": null,
            "border": null,
            "bottom": null,
            "display": null,
            "flex": null,
            "flex_flow": null,
            "grid_area": null,
            "grid_auto_columns": null,
            "grid_auto_flow": null,
            "grid_auto_rows": null,
            "grid_column": null,
            "grid_gap": null,
            "grid_row": null,
            "grid_template_areas": null,
            "grid_template_columns": null,
            "grid_template_rows": null,
            "height": null,
            "justify_content": null,
            "justify_items": null,
            "left": null,
            "margin": null,
            "max_height": null,
            "max_width": null,
            "min_height": null,
            "min_width": null,
            "object_fit": null,
            "object_position": null,
            "order": null,
            "overflow": null,
            "overflow_x": null,
            "overflow_y": null,
            "padding": null,
            "right": null,
            "top": null,
            "visibility": null,
            "width": null
          }
        }
      }
    }
  },
  "nbformat": 4,
  "nbformat_minor": 5
}
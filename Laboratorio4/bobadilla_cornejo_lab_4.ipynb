{
  "cells": [
    {
      "cell_type": "markdown",
      "id": "344f0c70",
      "metadata": {
        "id": "344f0c70"
      },
      "source": [
        "<center>\n",
        "    <img src=\"http://sct.inf.utfsm.cl/wp-content/uploads/2020/04/logo_di.png\" style=\"width:60%\">\n",
        "    <h1> INF285 - Computación Científica </h1>\n",
        "    <h2> Laboratorio 4</h2>\n",
        "    <h2> [S]cientific [C]omputing [T]eam </a> </h2>\n",
        "    <h2> 2025-1</h2>\n",
        "</center>"
      ]
    },
    {
      "cell_type": "code",
      "execution_count": 1,
      "id": "a915063d-284c-4a6c-b73d-cee2881b9cbe",
      "metadata": {
        "id": "a915063d-284c-4a6c-b73d-cee2881b9cbe"
      },
      "outputs": [],
      "source": [
        "import matplotlib.pyplot as plt\n",
        "import numpy as np\n",
        "from numpy.linalg import qr\n",
        "from scipy.linalg import solve_triangular\n",
        "from ipywidgets import interact, IntSlider"
      ]
    },
    {
      "cell_type": "markdown",
      "id": "2fb4a3c7",
      "metadata": {
        "id": "2fb4a3c7"
      },
      "source": [
        "# **Contexto: Separando Nubes de Puntos**\n",
        "\n",
        "\n"
      ]
    },
    {
      "cell_type": "markdown",
      "id": "4d3c004d",
      "metadata": {
        "id": "4d3c004d"
      },
      "source": [
        "Como vimos en el certamen 2 y en el contexto, podemos usar mínimos cuadrados para calcular una recta entre dos nubes de puntos a través de una tercera dimensión. **¿Qué pasaría si ahora hablamos de dos objetos en 3D?** Es decir, ahora nuestra nube de puntos que se describe como:\n",
        "\n",
        "$\\bigg(x_i^{(k)},y_i^{(k)},z_i^{(k)} \\bigg)$ para $i \\in \\{1,...,n_k\\}$\n",
        "\n",
        "La respuesta es simple, tenemos que aplicar el mismo procedimiento y aumentar una dimensión, es decir:\n",
        "\n",
        "$\\bigg(x_i^{(1)},y_i^{(1)},z_i^{(1)}, 1 \\bigg)$ para $i \\in \\{1,...,n_1\\}$\n",
        "\n",
        "$\\bigg(x_i^{(2)},y_i^{(2)},z_i^{(2)}, -1 \\bigg)$ para $i \\in \\{1,...,n_2\\}$\n",
        "\n",
        "Donde ahora nuestra recta separadora se convertiría en el plano $z = \\hat{a}x + \\hat{b}y + \\hat{d}$ que separa las nubes de puntos, por lo tanto que buscamos el hiperplano $k = ax + by + cz + d$  **que se encuentre más cerca de cada punto** minimizando el error con la siguiente función:\n",
        "\n",
        "$$\n",
        "E_2(a,b,c,d) = \\sum_{i=1}^{n_1} \\bigg(1 - (ax_i^{(1)} + b y_i^{(1)} + c z_i^{(1)} + d) \\bigg)^2 + \\sum_{j=1}^{n_2} \\bigg( -1 - (ax_j^{(2)} + b y_j^{(2)} + c z_j^{(2)} + d) \\bigg)^2$$\n",
        "\n",
        "\n",
        "Nuevamente para recuperar nuestra dimensión original igualaremos el hiperplano $k=0$\n",
        "\n",
        "$$0 = ax + by + cz + d \\implies cz = -ax -by -d \\implies z = -\\frac{a}{c}x -\\frac{b}{c}y - \\frac{d}{c}$$\n",
        "\n",
        "Eso más nuestro parámetro $\\frac{n_1}{n_2}$ nos permitirá conseguir el plano entre las nubes de puntos.\n",
        "\n",
        "$$E_2(a,b,c,d) = \\sum_{i=1}^{n_1} \\bigg(1 - (ax_i^{(1)} + b y_i^{(1)} + c z_i^{(1)} + d) \\bigg)^2 + \\frac{n1}{n2} \\sum_{j=1}^{n_2} \\bigg( -1 - (ax_j^{(2)} + b y_j^{(2)} + c z_j^{(2)} + d) \\bigg)^2$$"
      ]
    },
    {
      "cell_type": "markdown",
      "id": "03b2d471",
      "metadata": {
        "id": "03b2d471"
      },
      "source": [
        "---"
      ]
    },
    {
      "cell_type": "markdown",
      "id": "ec1d22ff",
      "metadata": {
        "id": "ec1d22ff"
      },
      "source": [
        "## Funciones disponibles"
      ]
    },
    {
      "cell_type": "markdown",
      "id": "edd8203d",
      "metadata": {
        "id": "edd8203d"
      },
      "source": [
        "- **np.arange(n)**: Para n un número entero positivo entrega un vector de largo n con números enteros desde 0 hasta n-1\n",
        "- **np.dot(a, b)**: Obtiene el producto interno entre el vector a y b. En caso de que a sea una matriz, entrega el producto matriz-vector respectivo. Para esto es posible usar el operador @.\n",
        "- **np.{zeros, ones}(n)**: Genera un vector {nulo, de unos} de dimensión $n$.\n",
        "- **np.{zeros, ones}((n,m))**: Genera una matriz {nula, de unos} de dimensión $n \\times m$.\n",
        "- **np.eyes(k)**: Genera la matriz identidad $I_k$ de dimensión $k \\times k$\n",
        "- **np.transpose(A)**: Obtiene la transpuesta de A, equivalente a A.T\n",
        "- **np.sqrt(x)**: Calcula la raíz cuadrada elemento a elemento del vector x.\n",
        "- **np.power(x, p)**: Calcula la potencia a la $p$ elemento a elemento del vector x.\n",
        "- **np.any(x)**: Retorna Trues si algún elemento del array x tiene valor booleano True\n",
        "- **np.all(x)**: Retorna Trues si todos los elementos del array x tienen valor booleano True\n",
        "- **qr(A, mode=\"reduced\")**: Factorización reducida QR de A.\n",
        "- **solve_triangular(A, b, lower={False, True})**: Resuelve Ax = b, si A es triangular {superior, inferior}"
      ]
    },
    {
      "cell_type": "markdown",
      "id": "9d391b80",
      "metadata": {
        "id": "9d391b80"
      },
      "source": [
        "---"
      ]
    },
    {
      "cell_type": "markdown",
      "id": "db854941",
      "metadata": {
        "id": "db854941"
      },
      "source": [
        "# **Laboratorio**"
      ]
    },
    {
      "cell_type": "code",
      "execution_count": 2,
      "id": "3200021c",
      "metadata": {
        "id": "3200021c"
      },
      "outputs": [],
      "source": [
        "def generate_cloud_3d(n, radius, center):\n",
        "    \"\"\"\n",
        "    Genera n puntos aleatorios en una nube 3D dentro de una esfera de radio dado.\n",
        "\n",
        "    Args:\n",
        "        n (int): Número de puntos a generar.\n",
        "        radius (float): Radio de la esfera en la que se generarán los puntos.\n",
        "        center (tuple): Coordenadas del centro de la esfera (x, y, z).\n",
        "    Returns:\n",
        "        Tres arrays de numpy que representan las coordenadas x, y, z de los puntos generados.\n",
        "    \"\"\"\n",
        "    # Creating Random Number Generator (rng) with seed=99.\n",
        "    rng = np.random.default_rng(seed=99)\n",
        "    r = radius * np.cbrt(rng.random(n))  # distribución uniforme en el volumen\n",
        "    theta = rng.uniform(0, 2 * np.pi, n)  # ángulo azimutal\n",
        "    phi = np.arccos(1 - 2 * rng.random(n))  # ángulo polar\n",
        "\n",
        "    # Conversión a coordenadas cartesianas\n",
        "    x = center[0] + r * np.sin(phi) * np.cos(theta)\n",
        "    y = center[1] + r * np.sin(phi) * np.sin(theta)\n",
        "    z = center[2] + r * np.cos(phi)\n",
        "\n",
        "    return x, y, z"
      ]
    },
    {
      "cell_type": "markdown",
      "id": "0b250042",
      "metadata": {
        "id": "0b250042"
      },
      "source": [
        "Concretamente vamos a intentar encontrar el plano en común que separe $k=2$ nubes de puntos, con la siguiente estructura:\n",
        "$$\n",
        "\\{x^{(k)}_i, y^{(k)}_i, z^{(k)}_i \\}\n",
        "$$"
      ]
    },
    {
      "cell_type": "code",
      "execution_count": 3,
      "id": "c6fd2090",
      "metadata": {
        "colab": {
          "base_uri": "https://localhost:8080/",
          "height": 726,
          "referenced_widgets": [
            "79e4f824d9db48d49d7a07855420c184",
            "2d249a54a4b446cfa929782c7c00b75e",
            "0030aef9217a46a99e01829f234728c0",
            "3e99cd7361664db99ef9497d85bd074c",
            "b159d19fc0e8468aa23ea74ad6f9bd5e",
            "a2cc013feaef424e96b055871961b1f9",
            "724acb89a522488dbfb44690dd5679e0"
          ]
        },
        "id": "c6fd2090",
        "outputId": "1672e939-7e16-455e-c6ce-d2854f584183"
      },
      "outputs": [
        {
          "output_type": "display_data",
          "data": {
            "text/plain": [
              "interactive(children=(IntSlider(value=0, description='angle', max=360, step=5), Output()), _dom_classes=('widg…"
            ],
            "application/vnd.jupyter.widget-view+json": {
              "version_major": 2,
              "version_minor": 0,
              "model_id": "79e4f824d9db48d49d7a07855420c184"
            }
          },
          "metadata": {}
        },
        {
          "output_type": "execute_result",
          "data": {
            "text/plain": [
              "<function __main__.plot_view(angle=0)>"
            ],
            "text/html": [
              "<div style=\"max-width:800px; border: 1px solid var(--colab-border-color);\"><style>\n",
              "      pre.function-repr-contents {\n",
              "        overflow-x: auto;\n",
              "        padding: 8px 12px;\n",
              "        max-height: 500px;\n",
              "      }\n",
              "\n",
              "      pre.function-repr-contents.function-repr-contents-collapsed {\n",
              "        cursor: pointer;\n",
              "        max-height: 100px;\n",
              "      }\n",
              "    </style>\n",
              "    <pre style=\"white-space: initial; background:\n",
              "         var(--colab-secondary-surface-color); padding: 8px 12px;\n",
              "         border-bottom: 1px solid var(--colab-border-color);\"><b>plot_view</b><br/>def plot_view(angle=0)</pre><pre class=\"function-repr-contents function-repr-contents-collapsed\" style=\"\"><a class=\"filepath\" style=\"display:none\" href=\"#\">/content/&lt;ipython-input-3-afaa353ad7a1&gt;</a>&lt;no docstring&gt;</pre></div>"
            ]
          },
          "metadata": {},
          "execution_count": 3
        }
      ],
      "source": [
        "#--- NO MODIFICAR ESTA CELDA ---- | --- NO MODIFICAR ESTA CELDA ---- | --- NO MODIFICAR ESTA CELDA ---- |\n",
        "n1,n2,n3 = 100,20,40\n",
        "x1, y1, z1 = generate_cloud_3d(n1, 5.0, (10, 10, 10))\n",
        "x2, y2, z2 = generate_cloud_3d(n2, 2.0, (1, 1, 1))\n",
        "\n",
        "def plot_view(angle=0):\n",
        "    fig = plt.figure(figsize=(8, 6))\n",
        "    ax = fig.add_subplot(111, projection='3d')\n",
        "    ax.scatter(x1, y1, z1, s=1, alpha=0.5, c='blue', label='Cloud 1')\n",
        "    ax.scatter(x2, y2, z2, s=1, alpha=0.5, c='red', label='Cloud 2')\n",
        "    ax.set_xlabel('X')\n",
        "    ax.set_ylabel('Y')\n",
        "    ax.set_zlabel('Z')\n",
        "    ax.legend()\n",
        "    ax.view_init(elev=20, azim=angle)\n",
        "    ax.set_title(f'angle: {angle}°')\n",
        "    plt.tight_layout()\n",
        "    plt.show()\n",
        "\n",
        "interact(plot_view, angle=IntSlider(min=0, max=360, step=5, value=0))\n",
        "#--- NO MODIFICAR ESTA CELDA ---- | --- NO MODIFICAR ESTA CELDA ---- | --- NO MODIFICAR ESTA CELDA ---- |"
      ]
    },
    {
      "cell_type": "markdown",
      "id": "fc61f893",
      "metadata": {
        "id": "fc61f893"
      },
      "source": [
        "---"
      ]
    },
    {
      "cell_type": "markdown",
      "id": "47bd4129",
      "metadata": {
        "id": "47bd4129"
      },
      "source": [
        "# Pregunta 1 (10 Pts)\n",
        "\n",
        "¿Cúal es el proposito del párametro $\\frac{n_1}{n_2}$?\n",
        "\n",
        "---\n",
        "\n",
        "**Respuesta:** El parámetro$\\frac{n_1}{n_2}$ se utiliza para ponderar la contribución de la segunda nube de puntos en el cálculo del plano separador utilizando mínimos cuadrados. Su propósito es **corregir el sesgo que ocurre cuando hay un desequilibrio en la cantidad de puntos entre las dos nubes**.\n",
        "\n",
        "Sin este parámetro, la nube con más puntos tendría mayor influencia sobre el plano, haciendo que éste se ajuste más a ella y pueda no quedar correctamente entre ambas. Al aplicar este factor de ponderación, se garantiza que ambas nubes tengan la misma importancia relativa en el error total, sin importar su tamaño.\n",
        "\n",
        "Esto permite una estimación del plano más justa, lo que es crucial para determinar correctamente si existe o no una posible colisión entre los objetos representados por las nubes de puntos.\n",
        "\n",
        "---\n"
      ]
    },
    {
      "cell_type": "markdown",
      "id": "eaed20ba",
      "metadata": {
        "id": "eaed20ba"
      },
      "source": [
        "# Pregunta 2 (20 pts)"
      ]
    },
    {
      "cell_type": "markdown",
      "id": "c8eeca53",
      "metadata": {
        "id": "c8eeca53"
      },
      "source": [
        "Desarrolle la función, `build_A_and_b` la cual tiene que retornar las matrices `A,b` asociadas al problema de mínimos cuadrados $Ax=b$ que se busca resolver."
      ]
    },
    {
      "cell_type": "code",
      "execution_count": 5,
      "id": "7a811a8d",
      "metadata": {
        "colab": {
          "base_uri": "https://localhost:8080/"
        },
        "id": "7a811a8d",
        "outputId": "51ae2a42-abf5-4174-cd6a-9b6e7c3e30da"
      },
      "outputs": [
        {
          "output_type": "stream",
          "name": "stdout",
          "text": [
            "Matriz A:\n",
            "[[ 8.65136117e+00  1.37126861e+01  1.05220455e+01  1.00000000e+00]\n",
            " [ 7.46548306e+00  6.73443083e+00  9.99145636e+00  1.00000000e+00]\n",
            " [ 9.90058020e+00  1.39607629e+01  9.45161882e+00  1.00000000e+00]\n",
            " [ 1.42492936e+01  1.25142517e+01  9.60464448e+00  1.00000000e+00]\n",
            " [ 6.67871762e+00  9.78044077e+00  7.35450731e+00  1.00000000e+00]\n",
            " [ 9.26934527e+00  1.38485569e+01  1.13441837e+01  1.00000000e+00]\n",
            " [ 7.63550915e+00  1.00402961e+01  7.70225310e+00  1.00000000e+00]\n",
            " [ 8.31804634e+00  1.24482891e+01  1.28373831e+01  1.00000000e+00]\n",
            " [ 1.03303833e+01  6.53196874e+00  8.29030653e+00  1.00000000e+00]\n",
            " [ 9.79911285e+00  1.37678784e+01  8.06469559e+00  1.00000000e+00]\n",
            " [ 9.42370448e+00  5.24134815e+00  9.07807182e+00  1.00000000e+00]\n",
            " [ 1.20598123e+01  1.18154987e+01  1.15077249e+01  1.00000000e+00]\n",
            " [ 1.06278955e+01  6.75921489e+00  9.26492237e+00  1.00000000e+00]\n",
            " [ 1.29906617e+01  9.94761840e+00  1.21030334e+01  1.00000000e+00]\n",
            " [ 9.72256618e+00  1.13835712e+01  1.29084948e+01  1.00000000e+00]\n",
            " [ 1.29881396e+01  9.99412921e+00  8.13252965e+00  1.00000000e+00]\n",
            " [ 6.53283779e+00  6.66381291e+00  1.08798719e+01  1.00000000e+00]\n",
            " [ 7.20936455e+00  8.68262582e+00  1.18825456e+01  1.00000000e+00]\n",
            " [ 9.85409766e+00  1.41311856e+01  8.00030288e+00  1.00000000e+00]\n",
            " [ 9.20419080e+00  8.54881067e+00  1.04607968e+01  1.00000000e+00]\n",
            " [ 6.87734524e+00  1.10899735e+01  9.51937482e+00  1.00000000e+00]\n",
            " [ 6.57390272e+00  7.71995390e+00  1.16796407e+01  1.00000000e+00]\n",
            " [ 7.36349696e+00  1.03421024e+01  1.27679457e+01  1.00000000e+00]\n",
            " [ 1.07928363e+01  6.12476886e+00  1.27354763e+01  1.00000000e+00]\n",
            " [ 6.63692169e+00  9.42353895e+00  1.16468977e+01  1.00000000e+00]\n",
            " [ 7.86668783e+00  1.37003843e+01  9.94377934e+00  1.00000000e+00]\n",
            " [ 8.33834466e+00  1.36258676e+01  8.74049143e+00  1.00000000e+00]\n",
            " [ 8.58021741e+00  9.43310624e+00  6.07187652e+00  1.00000000e+00]\n",
            " [ 1.41792138e+01  9.12583068e+00  9.20094475e+00  1.00000000e+00]\n",
            " [ 1.11601871e+01  1.08599431e+01  6.27179649e+00  1.00000000e+00]\n",
            " [ 1.21395828e+01  1.02836516e+01  1.19262711e+01  1.00000000e+00]\n",
            " [ 8.91909793e+00  1.03514576e+01  1.17066088e+01  1.00000000e+00]\n",
            " [ 1.07988036e+01  1.17198623e+01  1.25257260e+01  1.00000000e+00]\n",
            " [ 1.18719371e+01  8.77214649e+00  1.04475362e+01  1.00000000e+00]\n",
            " [ 7.86906663e+00  9.03015670e+00  1.06052243e+01  1.00000000e+00]\n",
            " [ 1.11260634e+01  7.59415294e+00  8.08723358e+00  1.00000000e+00]\n",
            " [ 1.05947969e+01  8.68268542e+00  1.39429907e+01  1.00000000e+00]\n",
            " [ 1.34308788e+01  1.02461637e+01  9.34902232e+00  1.00000000e+00]\n",
            " [ 1.10679268e+01  8.99746841e+00  5.64118538e+00  1.00000000e+00]\n",
            " [ 5.80611379e+00  1.21210430e+01  1.15271560e+01  1.00000000e+00]\n",
            " [ 1.05085567e+01  1.34191843e+01  9.81731836e+00  1.00000000e+00]\n",
            " [ 1.20232734e+01  7.78756852e+00  9.24734454e+00  1.00000000e+00]\n",
            " [ 1.21616942e+01  6.28739961e+00  8.98810508e+00  1.00000000e+00]\n",
            " [ 1.28770407e+01  7.02779048e+00  9.64118276e+00  1.00000000e+00]\n",
            " [ 1.33992663e+01  7.03030938e+00  1.07875199e+01  1.00000000e+00]\n",
            " [ 1.40163755e+01  8.92450638e+00  1.09106155e+01  1.00000000e+00]\n",
            " [ 9.92539751e+00  1.21732755e+01  1.24410884e+01  1.00000000e+00]\n",
            " [ 1.01901455e+01  1.39030217e+01  7.13192760e+00  1.00000000e+00]\n",
            " [ 1.21378085e+01  1.08018576e+01  6.53122891e+00  1.00000000e+00]\n",
            " [ 9.99498506e+00  6.67988483e+00  1.30047246e+01  1.00000000e+00]\n",
            " [ 7.76738468e+00  1.22495260e+01  1.30236366e+01  1.00000000e+00]\n",
            " [ 9.65817160e+00  9.37881829e+00  5.47276488e+00  1.00000000e+00]\n",
            " [ 1.02154105e+01  9.36813851e+00  1.44983892e+01  1.00000000e+00]\n",
            " [ 9.90499336e+00  1.27158844e+01  7.46640174e+00  1.00000000e+00]\n",
            " [ 1.06696731e+01  9.97038740e+00  8.45963952e+00  1.00000000e+00]\n",
            " [ 7.20266992e+00  8.01056522e+00  8.08976436e+00  1.00000000e+00]\n",
            " [ 1.32557017e+01  7.33969698e+00  1.23552220e+01  1.00000000e+00]\n",
            " [ 7.81925274e+00  9.79647043e+00  8.55476286e+00  1.00000000e+00]\n",
            " [ 1.38000387e+01  7.61792054e+00  8.94853205e+00  1.00000000e+00]\n",
            " [ 6.12627318e+00  1.02899943e+01  8.05770806e+00  1.00000000e+00]\n",
            " [ 1.16260168e+01  5.85746526e+00  1.01065280e+01  1.00000000e+00]\n",
            " [ 8.01731259e+00  1.19246318e+01  1.11929431e+01  1.00000000e+00]\n",
            " [ 1.10629486e+01  1.00022475e+01  8.17536359e+00  1.00000000e+00]\n",
            " [ 9.50378298e+00  6.84061763e+00  9.60203404e+00  1.00000000e+00]\n",
            " [ 1.30493357e+01  1.26702288e+01  1.13461357e+01  1.00000000e+00]\n",
            " [ 1.26656127e+01  9.04219687e+00  1.22999306e+01  1.00000000e+00]\n",
            " [ 7.28622886e+00  8.80149236e+00  8.88340477e+00  1.00000000e+00]\n",
            " [ 8.50994195e+00  1.17834751e+01  1.28468330e+01  1.00000000e+00]\n",
            " [ 1.05897262e+01  5.60940186e+00  9.22262111e+00  1.00000000e+00]\n",
            " [ 1.30265188e+01  9.06101412e+00  9.84130831e+00  1.00000000e+00]\n",
            " [ 8.87981767e+00  1.07403915e+01  6.14363351e+00  1.00000000e+00]\n",
            " [ 9.12890885e+00  7.30737412e+00  7.61103218e+00  1.00000000e+00]\n",
            " [ 5.80794578e+00  1.21072138e+01  1.16943139e+01  1.00000000e+00]\n",
            " [ 1.33980514e+01  1.32972657e+01  1.02864186e+01  1.00000000e+00]\n",
            " [ 1.05581544e+01  1.10071649e+01  5.66367945e+00  1.00000000e+00]\n",
            " [ 1.18308308e+01  7.52814378e+00  7.29207950e+00  1.00000000e+00]\n",
            " [ 7.95562610e+00  1.05579926e+01  1.30069856e+01  1.00000000e+00]\n",
            " [ 7.68286289e+00  1.32191843e+01  8.11369679e+00  1.00000000e+00]\n",
            " [ 8.26619916e+00  1.35176427e+01  7.37035008e+00  1.00000000e+00]\n",
            " [ 9.83873424e+00  1.02300675e+01  7.41905308e+00  1.00000000e+00]\n",
            " [ 9.64053031e+00  1.12760647e+01  8.92230560e+00  1.00000000e+00]\n",
            " [ 1.04789332e+01  8.17767216e+00  6.63266444e+00  1.00000000e+00]\n",
            " [ 9.64430090e+00  8.80695313e+00  7.01902856e+00  1.00000000e+00]\n",
            " [ 7.21729253e+00  8.08442071e+00  1.34109258e+01  1.00000000e+00]\n",
            " [ 1.04438152e+01  8.38567764e+00  7.26487132e+00  1.00000000e+00]\n",
            " [ 1.13012717e+01  1.10976427e+01  1.45422092e+01  1.00000000e+00]\n",
            " [ 1.19492518e+01  6.84366034e+00  8.58262353e+00  1.00000000e+00]\n",
            " [ 1.01433738e+01  1.33584881e+01  6.70329554e+00  1.00000000e+00]\n",
            " [ 1.28434122e+01  1.24601876e+01  1.07819875e+01  1.00000000e+00]\n",
            " [ 6.89699818e+00  9.55693587e+00  6.80838700e+00  1.00000000e+00]\n",
            " [ 6.95529861e+00  1.35389344e+01  8.31565198e+00  1.00000000e+00]\n",
            " [ 9.39159437e+00  7.45356450e+00  9.16397465e+00  1.00000000e+00]\n",
            " [ 1.00915224e+01  6.87179661e+00  9.41864513e+00  1.00000000e+00]\n",
            " [ 1.15887946e+01  7.64419804e+00  1.28286510e+01  1.00000000e+00]\n",
            " [ 1.04726767e+01  1.10110961e+01  6.55966691e+00  1.00000000e+00]\n",
            " [ 7.65061252e+00  6.38950432e+00  8.26318718e+00  1.00000000e+00]\n",
            " [ 8.14807867e+00  1.28537952e+01  6.51670871e+00  1.00000000e+00]\n",
            " [ 8.10206816e+00  6.56316479e+00  1.13510639e+01  1.00000000e+00]\n",
            " [ 9.77097490e+00  8.22344662e+00  1.18154215e+01  1.00000000e+00]\n",
            " [ 1.14688703e+01  6.98566865e+00  8.66124620e+00  1.00000000e+00]\n",
            " [ 1.22595839e+00  5.43660674e+00  3.43462843e+00  2.23606798e+00]\n",
            " [ 1.31413629e+00 -7.66835872e-01  4.18615601e+00  2.23606798e+00]\n",
            " [-9.31328788e-01  3.21587816e+00  8.92130094e-01  2.23606798e+00]\n",
            " [ 5.61092178e+00 -5.60933368e-01  1.59220758e+00  2.23606798e+00]\n",
            " [-7.04247201e-01  3.50626247e+00  1.85859162e-01  2.23606798e+00]\n",
            " [-3.33576469e-01 -2.87486493e-01  1.36989163e+00  2.23606798e+00]\n",
            " [-3.90639594e-02  8.83221797e-01  3.53654756e+00  2.23606798e+00]\n",
            " [ 5.37546770e-01  1.01612172e+00 -7.84829482e-01  2.23606798e+00]\n",
            " [ 3.18221564e-01 -6.12275904e-01  1.72974904e+00  2.23606798e+00]\n",
            " [-1.16763298e+00  1.99438563e+00  5.80005514e-01  2.23606798e+00]\n",
            " [ 3.65625262e+00  6.08042072e+00  7.30911499e-01  2.23606798e+00]\n",
            " [ 4.37689585e+00  3.22655088e+00  7.24288578e-01  2.23606798e+00]\n",
            " [ 2.20250652e+00  4.84700704e+00  7.09079145e-01  2.23606798e+00]\n",
            " [ 4.89489506e+00  4.04771828e+00  2.82275571e+00  2.23606798e+00]\n",
            " [ 3.07319380e+00  2.95678551e+00  4.90819282e+00  2.23606798e+00]\n",
            " [ 1.63437996e+00  5.32834361e+00  2.33077627e+00  2.23606798e+00]\n",
            " [-2.40404114e-03  7.65337449e-01 -1.22321242e+00  2.23606798e+00]\n",
            " [ 9.79027635e-01  4.13092657e+00  4.53455434e+00  2.23606798e+00]\n",
            " [ 2.82651007e+00 -1.10372670e+00 -8.05169557e-02  2.23606798e+00]\n",
            " [ 3.66223728e+00  1.92090608e+00  1.75858363e+00  2.23606798e+00]]\n",
            "\n",
            "Vector b:\n",
            "[ 1.          1.          1.          1.          1.          1.\n",
            "  1.          1.          1.          1.          1.          1.\n",
            "  1.          1.          1.          1.          1.          1.\n",
            "  1.          1.          1.          1.          1.          1.\n",
            "  1.          1.          1.          1.          1.          1.\n",
            "  1.          1.          1.          1.          1.          1.\n",
            "  1.          1.          1.          1.          1.          1.\n",
            "  1.          1.          1.          1.          1.          1.\n",
            "  1.          1.          1.          1.          1.          1.\n",
            "  1.          1.          1.          1.          1.          1.\n",
            "  1.          1.          1.          1.          1.          1.\n",
            "  1.          1.          1.          1.          1.          1.\n",
            "  1.          1.          1.          1.          1.          1.\n",
            "  1.          1.          1.          1.          1.          1.\n",
            "  1.          1.          1.          1.          1.          1.\n",
            "  1.          1.          1.          1.          1.          1.\n",
            "  1.          1.          1.          1.         -2.23606798 -2.23606798\n",
            " -2.23606798 -2.23606798 -2.23606798 -2.23606798 -2.23606798 -2.23606798\n",
            " -2.23606798 -2.23606798 -2.23606798 -2.23606798 -2.23606798 -2.23606798\n",
            " -2.23606798 -2.23606798 -2.23606798 -2.23606798 -2.23606798 -2.23606798]\n"
          ]
        }
      ],
      "source": [
        "def build_A_and_b(x1, y1, z1, x2, y2, z2, n1, n2):\n",
        "\n",
        "    \"\"\"\n",
        "    Genera la matriz A asociada al problema de minimos cuadrados, a partir de dos nubes de puntos 3D.\n",
        "\n",
        "    Args:\n",
        "        x1, y1, z1 (array [n1 x 1]): Coordenadas de la primera nube de puntos..\n",
        "        x2, y2, z2 (array [n2 x 1]): Coordenadas de la segunda nube de puntos.\n",
        "        n1 (int): Número de puntos en la primera nube.\n",
        "        n2 (int): Número de puntos en la segunda nube.\n",
        "    Returns:\n",
        "        A,b\n",
        "        A: Matriz numpy que representa la matriz A [(n1+n2) x 4] del problema de mínimos cuadrados.\n",
        "        b: Matriz numpy que representa el vector B [(n1+n2) x 1] del problema de mínimos cuadrados.\n",
        "\n",
        "    \"\"\"\n",
        "    # acá va su codigo\n",
        "    #--------------------------------\n",
        "    A = np.zeros((n1 + n2, 4))\n",
        "    b = np.zeros(n1 + n2)\n",
        "\n",
        "    A[0:n1, 0] = x1\n",
        "    A[0:n1, 1] = y1\n",
        "    A[0:n1, 2] = z1\n",
        "    A[0:n1, 3] = 1.0\n",
        "    b[0:n1] = 1.0\n",
        "\n",
        "\n",
        "    peso = np.sqrt(n1 / n2)\n",
        "\n",
        "    A[n1:n1+n2, 0] = x2 * peso\n",
        "    A[n1:n1+n2, 1] = y2 * peso\n",
        "    A[n1:n1+n2, 2] = z2 * peso\n",
        "    A[n1:n1+n2, 3] = 1.0 * peso\n",
        "    b[n1:n1+n2] = -1.0 * peso\n",
        "    #--------------------------------\n",
        "    return A,b\n",
        "\n"
      ]
    },
    {
      "cell_type": "markdown",
      "id": "b1b38bae",
      "metadata": {
        "id": "b1b38bae"
      },
      "source": [
        "---"
      ]
    },
    {
      "cell_type": "markdown",
      "id": "f416cd19",
      "metadata": {
        "id": "f416cd19"
      },
      "source": [
        "# Pregunta 3 (20 Pts)"
      ]
    },
    {
      "cell_type": "markdown",
      "id": "692640d0",
      "metadata": {
        "id": "692640d0"
      },
      "source": [
        "Construya la función `common_plane` la cual retorna los coeficientes $A,B,C$ y $D$ que definen el plano común $Ax + By + Cz + D = 0$ entre las nubes de puntos."
      ]
    },
    {
      "cell_type": "code",
      "execution_count": 6,
      "id": "e0cb11da",
      "metadata": {
        "id": "e0cb11da"
      },
      "outputs": [],
      "source": [
        "def common_plane(x1, y1, z1, x2, y2, z2, n1, n2):\n",
        "    \"\"\"\n",
        "    Calcula los coeficientes del plano común a dos nubes de puntos 3D utilizando mínimos cuadrados.\n",
        "    Args:\n",
        "        x1, y1, z1 (array [n1 x 1]): Coordenadas de la primera nube de puntos.\n",
        "        x2, y2, z2 (array [n2 x 1]): Coordenadas de la segunda nube de puntos.\n",
        "        n1 (int): Número de puntos en la primera nube.\n",
        "        n2 (int): Número de puntos en la segunda nube.\n",
        "    Returns:\n",
        "        array [4 x 1]: Coeficientes del plano común (A, B, C, D) de la forma Ax + By + Cz + D = 0.\n",
        "    \"\"\"\n",
        "    # acá va su codigo\n",
        "    #--------------------------------\n",
        "    A, b = build_A_and_b(x1, y1, z1, x2, y2, z2, n1, n2)\n",
        "    Q,R= qr(A, mode=\"reduced\")\n",
        "    Qt_b = np.dot(np.transpose(Q), b)\n",
        "    coef= solve_triangular(R, Qt_b)\n",
        "\n",
        "\n",
        "    #--------------------------------\n",
        "    return coef\n",
        ""
      ]
    },
    {
      "cell_type": "markdown",
      "id": "d24b829d",
      "metadata": {
        "id": "d24b829d"
      },
      "source": [
        "# **Visualizar el Plano**"
      ]
    },
    {
      "cell_type": "code",
      "execution_count": 7,
      "id": "4d83ab1e",
      "metadata": {
        "colab": {
          "base_uri": "https://localhost:8080/",
          "height": 726,
          "referenced_widgets": [
            "b83502adb5614314ace3b76d27e653ea",
            "0da6ec15121e4612bdfa23e19e2e2a23",
            "296874a0f52b44aaa4750811dcb96bdc",
            "967fb16938fc40e4a0bedf4584175536",
            "64370a527c23421d895f93110019e80d",
            "5512bc1b333e4c9f8e55b0e00baf4566",
            "8120fc2955b346058d509e6cff20daff"
          ]
        },
        "id": "4d83ab1e",
        "outputId": "457402ba-ef43-483a-97bb-b95aafa35dc0"
      },
      "outputs": [
        {
          "output_type": "display_data",
          "data": {
            "text/plain": [
              "interactive(children=(IntSlider(value=0, description='angle', max=360, step=5), Output()), _dom_classes=('widg…"
            ],
            "application/vnd.jupyter.widget-view+json": {
              "version_major": 2,
              "version_minor": 0,
              "model_id": "b83502adb5614314ace3b76d27e653ea"
            }
          },
          "metadata": {}
        },
        {
          "output_type": "execute_result",
          "data": {
            "text/plain": [
              "<function __main__.plot_view(angle=0)>"
            ],
            "text/html": [
              "<div style=\"max-width:800px; border: 1px solid var(--colab-border-color);\"><style>\n",
              "      pre.function-repr-contents {\n",
              "        overflow-x: auto;\n",
              "        padding: 8px 12px;\n",
              "        max-height: 500px;\n",
              "      }\n",
              "\n",
              "      pre.function-repr-contents.function-repr-contents-collapsed {\n",
              "        cursor: pointer;\n",
              "        max-height: 100px;\n",
              "      }\n",
              "    </style>\n",
              "    <pre style=\"white-space: initial; background:\n",
              "         var(--colab-secondary-surface-color); padding: 8px 12px;\n",
              "         border-bottom: 1px solid var(--colab-border-color);\"><b>plot_view</b><br/>def plot_view(angle=0)</pre><pre class=\"function-repr-contents function-repr-contents-collapsed\" style=\"\"><a class=\"filepath\" style=\"display:none\" href=\"#\">/content/&lt;ipython-input-7-1bb76dd83069&gt;</a>&lt;no docstring&gt;</pre></div>"
            ]
          },
          "metadata": {},
          "execution_count": 7
        }
      ],
      "source": [
        "#--- NO MODIFICAR ESTA CELDA ---- | --- NO MODIFICAR ESTA CELDA ---- | --- NO MODIFICAR ESTA CELDA ---- |\n",
        "n1,n2 = 200,10\n",
        "x1, y1, z1 = generate_cloud_3d(n1, 5.0, (10, 10, 10))\n",
        "x2, y2, z2 = generate_cloud_3d(n2, 2.0, (1, 1, 1))\n",
        "\n",
        "A,B,C,D = common_plane(x1, y1, z1, x2, y2, z2, n1, n2)\n",
        "\n",
        "def plot_view(angle=0):\n",
        "    fig = plt.figure(figsize=(8, 6))\n",
        "    ax = fig.add_subplot(111, projection='3d')\n",
        "\n",
        "    ax.scatter(x1, y1, z1, s=1, alpha=0.5, c='blue', label='Cloud 1')\n",
        "    ax.scatter(x2, y2, z2, s=1, alpha=0.5, c='red', label='Cloud 2')\n",
        "\n",
        "    all_x = np.concatenate([x1, x2])\n",
        "    all_y = np.concatenate([y1, y2])\n",
        "\n",
        "    x_min, x_max = all_x.min(), all_x.max()\n",
        "    y_min, y_max = all_y.min(), all_y.max()\n",
        "\n",
        "    xx, yy = np.meshgrid(np.linspace(x_min, x_max, 20),\n",
        "                         np.linspace(y_min, y_max, 20))\n",
        "\n",
        "    # Calcular Z usando la ecuación del plano: Ax + By + Cz + D = 0\n",
        "    # Despejando z: z = -(Ax + By + D) / C\n",
        "    if abs(C) > 1e-8:\n",
        "        zz = -(A * xx + B * yy + D) / C\n",
        "        ax.plot_surface(xx, yy, zz, alpha=0.3, color='green', label='Plano común')\n",
        "    else:\n",
        "        print(\"El plano es vertical (C ≈ 0), no se puede graficar como superficie z=f(x,y)\")\n",
        "\n",
        "    ax.legend()\n",
        "    ax.set_xlabel('X')\n",
        "    ax.set_ylabel('Y')\n",
        "    ax.set_zlabel('Z')\n",
        "    ax.view_init(elev=20, azim=angle)\n",
        "    ax.set_title(f'Vista azimutal: {angle}°')\n",
        "    plt.tight_layout()\n",
        "    plt.show()\n",
        "\n",
        "interact(plot_view, angle=IntSlider(min=0, max=360, step=5, value=0))\n",
        "#--- NO MODIFICAR ESTA CELDA ---- | --- NO MODIFICAR ESTA CELDA ---- | --- NO MODIFICAR ESTA CELDA ---- |"
      ]
    },
    {
      "cell_type": "markdown",
      "id": "516f7354",
      "metadata": {
        "id": "516f7354"
      },
      "source": [
        "# Pregunta 4 (30 Pts)"
      ]
    },
    {
      "cell_type": "markdown",
      "id": "3885b6b3",
      "metadata": {
        "id": "3885b6b3"
      },
      "source": [
        "En el gráfico anterior, deberíamos poder ver cómo el plano que generamos sí logra separar ambos cúmulos de puntos, pero aún no hemos desarrollado una función para determinar si hay o no colisiones. Desarrolle la función `check_collision`, que retorne `True` si hay un punto que este sobre o del lado incorrecto del plano y `False` en caso contrario."
      ]
    },
    {
      "cell_type": "code",
      "execution_count": 8,
      "id": "dc237bdd",
      "metadata": {
        "id": "dc237bdd"
      },
      "outputs": [],
      "source": [
        "def check_collision(x1, y1, z1, x2, y2, z2, A,B, C, D):\n",
        "    \"\"\"\n",
        "    Calcula los coeficientes del plano común a dos nubes de puntos 3D utilizando mínimos cuadrados.\n",
        "    Args:\n",
        "        x1, y1, z1 (array [n1 x 1]): Coordenadas de la primera nube de puntos.\n",
        "        x2, y2, z2 (array [n2 x 1]): Coordenadas de la segunda nube de puntos.\n",
        "        A, B, C, D (float): Coeficientes del plano común de la forma Ax + By + Cz + D = 0.\n",
        "    Returns:\n",
        "        bool: True si hay colisión, False en caso contrario.\n",
        "    \"\"\"\n",
        "    # acá va su codigo\n",
        "    #--------------------------------\n",
        "    eval1= A*x1+B*y1+C*z1+D\n",
        "    test1=np.any(eval1<0)\n",
        "    eval2= A*x2+B*y2+C*z2+D\n",
        "    test2=np.any(eval2>0)\n",
        "    collision=test1 or test2\n",
        "\n",
        "    #--------------------------------\n",
        "    return collision\n",
        "\n"
      ]
    },
    {
      "cell_type": "markdown",
      "id": "e42ae4bc",
      "metadata": {
        "id": "e42ae4bc"
      },
      "source": [
        "Si el código funciona correctamente la siguiente celda debería arrojar `False`"
      ]
    },
    {
      "cell_type": "code",
      "execution_count": 9,
      "id": "2aae99cf",
      "metadata": {
        "colab": {
          "base_uri": "https://localhost:8080/"
        },
        "id": "2aae99cf",
        "outputId": "e9f8c38b-d450-4b9c-dc1e-cc12b6ebbea1"
      },
      "outputs": [
        {
          "output_type": "execute_result",
          "data": {
            "text/plain": [
              "np.False_"
            ]
          },
          "metadata": {},
          "execution_count": 9
        }
      ],
      "source": [
        "#--- NO MODIFICAR ESTA CELDA ---- | --- NO MODIFICAR ESTA CELDA ---- | --- NO MODIFICAR ESTA CELDA ---- |\n",
        "check_collision(x1, y1, z1, x2, y2, z2, A, B, C, D)\n",
        "#--- NO MODIFICAR ESTA CELDA ---- | --- NO MODIFICAR ESTA CELDA ---- | --- NO MODIFICAR ESTA CELDA ---- |"
      ]
    },
    {
      "cell_type": "markdown",
      "id": "32ccf86b",
      "metadata": {
        "id": "32ccf86b"
      },
      "source": [
        "Ahora podemos agregar un punto que genere una colisión y ver si la función retorna `True`."
      ]
    },
    {
      "cell_type": "code",
      "execution_count": 10,
      "id": "f8a83c09",
      "metadata": {
        "colab": {
          "base_uri": "https://localhost:8080/"
        },
        "id": "f8a83c09",
        "outputId": "2df59651-df25-4916-fc82-9b17ea9785c6"
      },
      "outputs": [
        {
          "output_type": "execute_result",
          "data": {
            "text/plain": [
              "np.True_"
            ]
          },
          "metadata": {},
          "execution_count": 10
        }
      ],
      "source": [
        "#--- NO MODIFICAR ESTA CELDA ---- | --- NO MODIFICAR ESTA CELDA ---- | --- NO MODIFICAR ESTA CELDA ---- |\n",
        "x_new1 = np.concatenate([x1, [1]])\n",
        "y_new1 = np.concatenate([y1, [1]])\n",
        "z_new1 = np.concatenate([z1, [1]])\n",
        "check_collision(x_new1, y_new1, z_new1, x2, y2, z2, A, B, C, D)\n",
        "#--- NO MODIFICAR ESTA CELDA ---- | --- NO MODIFICAR ESTA CELDA ---- | --- NO MODIFICAR ESTA CELDA ---- |"
      ]
    },
    {
      "cell_type": "markdown",
      "id": "67623f5a",
      "metadata": {
        "id": "67623f5a"
      },
      "source": [
        "# Pregunta 5 (20 Pts)\n",
        "\n",
        "¿Cómo se puede generalizar el problema de encontrar el plano o hiperplano común entre dos nubes de puntos si seguimos aumentando las dimensiones? Describa el proceso a seguir en el caso de nubes de puntos pertenecientes a $\\mathbb{R}^n$, indicando las dimensiones de cada matriz involucrada."
      ]
    },
    {
      "cell_type": "markdown",
      "id": "245d7cc6",
      "metadata": {
        "id": "245d7cc6"
      },
      "source": [
        "---\n",
        "\n",
        "**Respuesta:** Para el caso de nubes que pertenezcan a  $\\mathbb{R}^n$ se debe aumentar la dimensión del problema, es decir generar los puntos que pertenezcan a $\\mathbb{R}^{n+1}$, para de esa forma poder construir el hiperplano común, que pasa por ambas nubes. Este se representa de la siguiente forma:\n",
        "$$\n",
        "f(\\mathbf{x}) = w_1 x_1 + w_2 x_2 + \\dots + w_n x_n + b = 0\n",
        "$$\n",
        "Este hiperplano separador se representa como un vector de parámetros:\n",
        "$$\n",
        "\\boldsymbol{\\beta} = [w_1, w_2, \\dots, w_n, b]^\\top \\in \\mathbb{R}^{n+1}\n",
        "$$\n",
        "Esto nos permite generar el problema de mínimos cuadrados que hay que resolver, donde se debe encontrar los coeficientes que minimizen el plano. Para ello debemos construir el siguiente sistema:\n",
        "- La matriz de diseño$$\n",
        "A \\in \\mathbb{R}^{(n_1 + n_2) \\times (n + 1)}\n",
        "$$\n",
        "se forma colocando en cada fila un punto extendido con un 1 al final:  \n",
        "$$\n",
        "[x_1, x_2, \\dots, x_n, 1]\n",
        "$$\n",
        "\n",
        "- El **vector de etiquetas**\n",
        "$$\n",
        "b \\in \\mathbb{R}^{(n_1 + n_2)}\n",
        "$$ contiene:\n",
        "  - \\(+1\\) para puntos de la primera nube\n",
        "  - \\(-1\\) para la segunda nube\n",
        "\n",
        "- Con el factor $\\frac{n_1}{n_2}$, se ponderan los puntos de la segunda nube con el factor:\n",
        "\n",
        "$$\n",
        "\\sqrt{\\frac{n_1}{n_2}}\n",
        "$$\n",
        "para todas las filas que contengan los puntos de la segunda nube\n",
        "Luego se resuelve el problema de mínimos cuadrados mediante la factorización QR\n",
        "$$\n",
        "  A = QR \\Rightarrow R x = Q^\\top b\n",
        "$$\n",
        "\n",
        "y despues se usa la función check_collision para ver si existe alguna colisión, adaptandola a la dimensiones del problema en $\\mathbb{R}^{n}$\n",
        "---"
      ]
    }
  ],
  "metadata": {
    "kernelspec": {
      "display_name": "Python 3 (ipykernel)",
      "language": "python",
      "name": "python3"
    },
    "language_info": {
      "codemirror_mode": {
        "name": "ipython",
        "version": 3
      },
      "file_extension": ".py",
      "mimetype": "text/x-python",
      "name": "python",
      "nbconvert_exporter": "python",
      "pygments_lexer": "ipython3",
      "version": "3.9.12"
    },
    "colab": {
      "provenance": []
    },
    "widgets": {
      "application/vnd.jupyter.widget-state+json": {
        "79e4f824d9db48d49d7a07855420c184": {
          "model_module": "@jupyter-widgets/controls",
          "model_name": "VBoxModel",
          "model_module_version": "1.5.0",
          "state": {
            "_dom_classes": [
              "widget-interact"
            ],
            "_model_module": "@jupyter-widgets/controls",
            "_model_module_version": "1.5.0",
            "_model_name": "VBoxModel",
            "_view_count": null,
            "_view_module": "@jupyter-widgets/controls",
            "_view_module_version": "1.5.0",
            "_view_name": "VBoxView",
            "box_style": "",
            "children": [
              "IPY_MODEL_2d249a54a4b446cfa929782c7c00b75e",
              "IPY_MODEL_0030aef9217a46a99e01829f234728c0"
            ],
            "layout": "IPY_MODEL_3e99cd7361664db99ef9497d85bd074c"
          }
        },
        "2d249a54a4b446cfa929782c7c00b75e": {
          "model_module": "@jupyter-widgets/controls",
          "model_name": "IntSliderModel",
          "model_module_version": "1.5.0",
          "state": {
            "_dom_classes": [],
            "_model_module": "@jupyter-widgets/controls",
            "_model_module_version": "1.5.0",
            "_model_name": "IntSliderModel",
            "_view_count": null,
            "_view_module": "@jupyter-widgets/controls",
            "_view_module_version": "1.5.0",
            "_view_name": "IntSliderView",
            "continuous_update": true,
            "description": "angle",
            "description_tooltip": null,
            "disabled": false,
            "layout": "IPY_MODEL_b159d19fc0e8468aa23ea74ad6f9bd5e",
            "max": 360,
            "min": 0,
            "orientation": "horizontal",
            "readout": true,
            "readout_format": "d",
            "step": 5,
            "style": "IPY_MODEL_a2cc013feaef424e96b055871961b1f9",
            "value": 0
          }
        },
        "0030aef9217a46a99e01829f234728c0": {
          "model_module": "@jupyter-widgets/output",
          "model_name": "OutputModel",
          "model_module_version": "1.0.0",
          "state": {
            "_dom_classes": [],
            "_model_module": "@jupyter-widgets/output",
            "_model_module_version": "1.0.0",
            "_model_name": "OutputModel",
            "_view_count": null,
            "_view_module": "@jupyter-widgets/output",
            "_view_module_version": "1.0.0",
            "_view_name": "OutputView",
            "layout": "IPY_MODEL_724acb89a522488dbfb44690dd5679e0",
            "msg_id": "",
            "outputs": [
              {
                "output_type": "display_data",
                "data": {
                  "text/plain": "<Figure size 800x600 with 1 Axes>",
                  "image/png": "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\n"
                },
                "metadata": {}
              }
            ]
          }
        },
        "3e99cd7361664db99ef9497d85bd074c": {
          "model_module": "@jupyter-widgets/base",
          "model_name": "LayoutModel",
          "model_module_version": "1.2.0",
          "state": {
            "_model_module": "@jupyter-widgets/base",
            "_model_module_version": "1.2.0",
            "_model_name": "LayoutModel",
            "_view_count": null,
            "_view_module": "@jupyter-widgets/base",
            "_view_module_version": "1.2.0",
            "_view_name": "LayoutView",
            "align_content": null,
            "align_items": null,
            "align_self": null,
            "border": null,
            "bottom": null,
            "display": null,
            "flex": null,
            "flex_flow": null,
            "grid_area": null,
            "grid_auto_columns": null,
            "grid_auto_flow": null,
            "grid_auto_rows": null,
            "grid_column": null,
            "grid_gap": null,
            "grid_row": null,
            "grid_template_areas": null,
            "grid_template_columns": null,
            "grid_template_rows": null,
            "height": null,
            "justify_content": null,
            "justify_items": null,
            "left": null,
            "margin": null,
            "max_height": null,
            "max_width": null,
            "min_height": null,
            "min_width": null,
            "object_fit": null,
            "object_position": null,
            "order": null,
            "overflow": null,
            "overflow_x": null,
            "overflow_y": null,
            "padding": null,
            "right": null,
            "top": null,
            "visibility": null,
            "width": null
          }
        },
        "b159d19fc0e8468aa23ea74ad6f9bd5e": {
          "model_module": "@jupyter-widgets/base",
          "model_name": "LayoutModel",
          "model_module_version": "1.2.0",
          "state": {
            "_model_module": "@jupyter-widgets/base",
            "_model_module_version": "1.2.0",
            "_model_name": "LayoutModel",
            "_view_count": null,
            "_view_module": "@jupyter-widgets/base",
            "_view_module_version": "1.2.0",
            "_view_name": "LayoutView",
            "align_content": null,
            "align_items": null,
            "align_self": null,
            "border": null,
            "bottom": null,
            "display": null,
            "flex": null,
            "flex_flow": null,
            "grid_area": null,
            "grid_auto_columns": null,
            "grid_auto_flow": null,
            "grid_auto_rows": null,
            "grid_column": null,
            "grid_gap": null,
            "grid_row": null,
            "grid_template_areas": null,
            "grid_template_columns": null,
            "grid_template_rows": null,
            "height": null,
            "justify_content": null,
            "justify_items": null,
            "left": null,
            "margin": null,
            "max_height": null,
            "max_width": null,
            "min_height": null,
            "min_width": null,
            "object_fit": null,
            "object_position": null,
            "order": null,
            "overflow": null,
            "overflow_x": null,
            "overflow_y": null,
            "padding": null,
            "right": null,
            "top": null,
            "visibility": null,
            "width": null
          }
        },
        "a2cc013feaef424e96b055871961b1f9": {
          "model_module": "@jupyter-widgets/controls",
          "model_name": "SliderStyleModel",
          "model_module_version": "1.5.0",
          "state": {
            "_model_module": "@jupyter-widgets/controls",
            "_model_module_version": "1.5.0",
            "_model_name": "SliderStyleModel",
            "_view_count": null,
            "_view_module": "@jupyter-widgets/base",
            "_view_module_version": "1.2.0",
            "_view_name": "StyleView",
            "description_width": "",
            "handle_color": null
          }
        },
        "724acb89a522488dbfb44690dd5679e0": {
          "model_module": "@jupyter-widgets/base",
          "model_name": "LayoutModel",
          "model_module_version": "1.2.0",
          "state": {
            "_model_module": "@jupyter-widgets/base",
            "_model_module_version": "1.2.0",
            "_model_name": "LayoutModel",
            "_view_count": null,
            "_view_module": "@jupyter-widgets/base",
            "_view_module_version": "1.2.0",
            "_view_name": "LayoutView",
            "align_content": null,
            "align_items": null,
            "align_self": null,
            "border": null,
            "bottom": null,
            "display": null,
            "flex": null,
            "flex_flow": null,
            "grid_area": null,
            "grid_auto_columns": null,
            "grid_auto_flow": null,
            "grid_auto_rows": null,
            "grid_column": null,
            "grid_gap": null,
            "grid_row": null,
            "grid_template_areas": null,
            "grid_template_columns": null,
            "grid_template_rows": null,
            "height": null,
            "justify_content": null,
            "justify_items": null,
            "left": null,
            "margin": null,
            "max_height": null,
            "max_width": null,
            "min_height": null,
            "min_width": null,
            "object_fit": null,
            "object_position": null,
            "order": null,
            "overflow": null,
            "overflow_x": null,
            "overflow_y": null,
            "padding": null,
            "right": null,
            "top": null,
            "visibility": null,
            "width": null
          }
        },
        "b83502adb5614314ace3b76d27e653ea": {
          "model_module": "@jupyter-widgets/controls",
          "model_name": "VBoxModel",
          "model_module_version": "1.5.0",
          "state": {
            "_dom_classes": [
              "widget-interact"
            ],
            "_model_module": "@jupyter-widgets/controls",
            "_model_module_version": "1.5.0",
            "_model_name": "VBoxModel",
            "_view_count": null,
            "_view_module": "@jupyter-widgets/controls",
            "_view_module_version": "1.5.0",
            "_view_name": "VBoxView",
            "box_style": "",
            "children": [
              "IPY_MODEL_0da6ec15121e4612bdfa23e19e2e2a23",
              "IPY_MODEL_296874a0f52b44aaa4750811dcb96bdc"
            ],
            "layout": "IPY_MODEL_967fb16938fc40e4a0bedf4584175536"
          }
        },
        "0da6ec15121e4612bdfa23e19e2e2a23": {
          "model_module": "@jupyter-widgets/controls",
          "model_name": "IntSliderModel",
          "model_module_version": "1.5.0",
          "state": {
            "_dom_classes": [],
            "_model_module": "@jupyter-widgets/controls",
            "_model_module_version": "1.5.0",
            "_model_name": "IntSliderModel",
            "_view_count": null,
            "_view_module": "@jupyter-widgets/controls",
            "_view_module_version": "1.5.0",
            "_view_name": "IntSliderView",
            "continuous_update": true,
            "description": "angle",
            "description_tooltip": null,
            "disabled": false,
            "layout": "IPY_MODEL_64370a527c23421d895f93110019e80d",
            "max": 360,
            "min": 0,
            "orientation": "horizontal",
            "readout": true,
            "readout_format": "d",
            "step": 5,
            "style": "IPY_MODEL_5512bc1b333e4c9f8e55b0e00baf4566",
            "value": 145
          }
        },
        "296874a0f52b44aaa4750811dcb96bdc": {
          "model_module": "@jupyter-widgets/output",
          "model_name": "OutputModel",
          "model_module_version": "1.0.0",
          "state": {
            "_dom_classes": [],
            "_model_module": "@jupyter-widgets/output",
            "_model_module_version": "1.0.0",
            "_model_name": "OutputModel",
            "_view_count": null,
            "_view_module": "@jupyter-widgets/output",
            "_view_module_version": "1.0.0",
            "_view_name": "OutputView",
            "layout": "IPY_MODEL_8120fc2955b346058d509e6cff20daff",
            "msg_id": "",
            "outputs": [
              {
                "output_type": "display_data",
                "data": {
                  "text/plain": "<Figure size 800x600 with 1 Axes>",
                  "image/png": "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\n"
                },
                "metadata": {}
              }
            ]
          }
        },
        "967fb16938fc40e4a0bedf4584175536": {
          "model_module": "@jupyter-widgets/base",
          "model_name": "LayoutModel",
          "model_module_version": "1.2.0",
          "state": {
            "_model_module": "@jupyter-widgets/base",
            "_model_module_version": "1.2.0",
            "_model_name": "LayoutModel",
            "_view_count": null,
            "_view_module": "@jupyter-widgets/base",
            "_view_module_version": "1.2.0",
            "_view_name": "LayoutView",
            "align_content": null,
            "align_items": null,
            "align_self": null,
            "border": null,
            "bottom": null,
            "display": null,
            "flex": null,
            "flex_flow": null,
            "grid_area": null,
            "grid_auto_columns": null,
            "grid_auto_flow": null,
            "grid_auto_rows": null,
            "grid_column": null,
            "grid_gap": null,
            "grid_row": null,
            "grid_template_areas": null,
            "grid_template_columns": null,
            "grid_template_rows": null,
            "height": null,
            "justify_content": null,
            "justify_items": null,
            "left": null,
            "margin": null,
            "max_height": null,
            "max_width": null,
            "min_height": null,
            "min_width": null,
            "object_fit": null,
            "object_position": null,
            "order": null,
            "overflow": null,
            "overflow_x": null,
            "overflow_y": null,
            "padding": null,
            "right": null,
            "top": null,
            "visibility": null,
            "width": null
          }
        },
        "64370a527c23421d895f93110019e80d": {
          "model_module": "@jupyter-widgets/base",
          "model_name": "LayoutModel",
          "model_module_version": "1.2.0",
          "state": {
            "_model_module": "@jupyter-widgets/base",
            "_model_module_version": "1.2.0",
            "_model_name": "LayoutModel",
            "_view_count": null,
            "_view_module": "@jupyter-widgets/base",
            "_view_module_version": "1.2.0",
            "_view_name": "LayoutView",
            "align_content": null,
            "align_items": null,
            "align_self": null,
            "border": null,
            "bottom": null,
            "display": null,
            "flex": null,
            "flex_flow": null,
            "grid_area": null,
            "grid_auto_columns": null,
            "grid_auto_flow": null,
            "grid_auto_rows": null,
            "grid_column": null,
            "grid_gap": null,
            "grid_row": null,
            "grid_template_areas": null,
            "grid_template_columns": null,
            "grid_template_rows": null,
            "height": null,
            "justify_content": null,
            "justify_items": null,
            "left": null,
            "margin": null,
            "max_height": null,
            "max_width": null,
            "min_height": null,
            "min_width": null,
            "object_fit": null,
            "object_position": null,
            "order": null,
            "overflow": null,
            "overflow_x": null,
            "overflow_y": null,
            "padding": null,
            "right": null,
            "top": null,
            "visibility": null,
            "width": null
          }
        },
        "5512bc1b333e4c9f8e55b0e00baf4566": {
          "model_module": "@jupyter-widgets/controls",
          "model_name": "SliderStyleModel",
          "model_module_version": "1.5.0",
          "state": {
            "_model_module": "@jupyter-widgets/controls",
            "_model_module_version": "1.5.0",
            "_model_name": "SliderStyleModel",
            "_view_count": null,
            "_view_module": "@jupyter-widgets/base",
            "_view_module_version": "1.2.0",
            "_view_name": "StyleView",
            "description_width": "",
            "handle_color": null
          }
        },
        "8120fc2955b346058d509e6cff20daff": {
          "model_module": "@jupyter-widgets/base",
          "model_name": "LayoutModel",
          "model_module_version": "1.2.0",
          "state": {
            "_model_module": "@jupyter-widgets/base",
            "_model_module_version": "1.2.0",
            "_model_name": "LayoutModel",
            "_view_count": null,
            "_view_module": "@jupyter-widgets/base",
            "_view_module_version": "1.2.0",
            "_view_name": "LayoutView",
            "align_content": null,
            "align_items": null,
            "align_self": null,
            "border": null,
            "bottom": null,
            "display": null,
            "flex": null,
            "flex_flow": null,
            "grid_area": null,
            "grid_auto_columns": null,
            "grid_auto_flow": null,
            "grid_auto_rows": null,
            "grid_column": null,
            "grid_gap": null,
            "grid_row": null,
            "grid_template_areas": null,
            "grid_template_columns": null,
            "grid_template_rows": null,
            "height": null,
            "justify_content": null,
            "justify_items": null,
            "left": null,
            "margin": null,
            "max_height": null,
            "max_width": null,
            "min_height": null,
            "min_width": null,
            "object_fit": null,
            "object_position": null,
            "order": null,
            "overflow": null,
            "overflow_x": null,
            "overflow_y": null,
            "padding": null,
            "right": null,
            "top": null,
            "visibility": null,
            "width": null
          }
        }
      }
    }
  },
  "nbformat": 4,
  "nbformat_minor": 5
}